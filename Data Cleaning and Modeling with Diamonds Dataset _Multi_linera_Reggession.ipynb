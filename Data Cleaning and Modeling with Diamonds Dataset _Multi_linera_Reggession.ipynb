{
 "cells": [
  {
   "cell_type": "markdown",
   "id": "34900333",
   "metadata": {},
   "source": [
    "<a id=\"toc\"></a>\n",
    "\n",
    "## <p style=\"background-color:#4F8C9D; font-family:newtimeroman; color:#FFF9ED; font-size:175%; text-align:center; border-radius:10px 10px;\">Data Cleaning and Modeling with Diamonds Dataset</p>"
   ]
  },
  {
   "cell_type": "markdown",
   "id": "89f1efb1",
   "metadata": {},
   "source": [
    "* In this study, I wanted to analyse the effect of carat column on price in Seaborn \"Diamonds\" dataset with simple linear regression. \n",
    "\n",
    "* In the first step, I first tried to find outlier values and get rid of them. For this, I first used Tukey's Rule, but I did not get a very successful result. \n",
    "\n",
    "* Then, I tried to get rid of the outlier data using the Winsorizing method, but this did not give the result I expected. \n",
    "\n",
    "* Finally, I used the log() method and got more meaningful results than the other two. I cleaned the outlier values with this method. I investigated the correlation values of these two columns and created a dataframe from these two columns for simple linear regression. \n",
    "\n",
    "* I analysed the predictions of the model using the least squares error method."
   ]
  },
  {
   "cell_type": "code",
   "execution_count": 2,
   "id": "ad5e8e38",
   "metadata": {},
   "outputs": [],
   "source": [
    "import numpy as np\n",
    "import pandas as pd\n",
    "import matplotlib.pyplot as plt\n",
    "import seaborn as sns\n",
    "plt.rcParams[\"figure.figsize\"] = (6,4)\n",
    "%matplotlib inline\n",
    "\n",
    "import warnings\n",
    "warnings.filterwarnings('ignore')"
   ]
  },
  {
   "cell_type": "code",
   "execution_count": 3,
   "id": "3371745a",
   "metadata": {},
   "outputs": [
    {
     "data": {
      "text/plain": [
       "['anagrams',\n",
       " 'anscombe',\n",
       " 'attention',\n",
       " 'brain_networks',\n",
       " 'car_crashes',\n",
       " 'diamonds',\n",
       " 'dots',\n",
       " 'dowjones',\n",
       " 'exercise',\n",
       " 'flights',\n",
       " 'fmri',\n",
       " 'geyser',\n",
       " 'glue',\n",
       " 'healthexp',\n",
       " 'iris',\n",
       " 'mpg',\n",
       " 'penguins',\n",
       " 'planets',\n",
       " 'seaice',\n",
       " 'taxis',\n",
       " 'tips',\n",
       " 'titanic']"
      ]
     },
     "execution_count": 3,
     "metadata": {},
     "output_type": "execute_result"
    }
   ],
   "source": [
    "sns.get_dataset_names()"
   ]
  },
  {
   "cell_type": "code",
   "execution_count": 4,
   "id": "4a45bd97",
   "metadata": {},
   "outputs": [
    {
     "data": {
      "text/html": [
       "<div>\n",
       "<style scoped>\n",
       "    .dataframe tbody tr th:only-of-type {\n",
       "        vertical-align: middle;\n",
       "    }\n",
       "\n",
       "    .dataframe tbody tr th {\n",
       "        vertical-align: top;\n",
       "    }\n",
       "\n",
       "    .dataframe thead th {\n",
       "        text-align: right;\n",
       "    }\n",
       "</style>\n",
       "<table border=\"1\" class=\"dataframe\">\n",
       "  <thead>\n",
       "    <tr style=\"text-align: right;\">\n",
       "      <th></th>\n",
       "      <th>carat</th>\n",
       "      <th>cut</th>\n",
       "      <th>color</th>\n",
       "      <th>clarity</th>\n",
       "      <th>depth</th>\n",
       "      <th>table</th>\n",
       "      <th>price</th>\n",
       "      <th>x</th>\n",
       "      <th>y</th>\n",
       "      <th>z</th>\n",
       "    </tr>\n",
       "  </thead>\n",
       "  <tbody>\n",
       "    <tr>\n",
       "      <th>0</th>\n",
       "      <td>0.23</td>\n",
       "      <td>Ideal</td>\n",
       "      <td>E</td>\n",
       "      <td>SI2</td>\n",
       "      <td>61.5</td>\n",
       "      <td>55.0</td>\n",
       "      <td>326</td>\n",
       "      <td>3.95</td>\n",
       "      <td>3.98</td>\n",
       "      <td>2.43</td>\n",
       "    </tr>\n",
       "    <tr>\n",
       "      <th>1</th>\n",
       "      <td>0.21</td>\n",
       "      <td>Premium</td>\n",
       "      <td>E</td>\n",
       "      <td>SI1</td>\n",
       "      <td>59.8</td>\n",
       "      <td>61.0</td>\n",
       "      <td>326</td>\n",
       "      <td>3.89</td>\n",
       "      <td>3.84</td>\n",
       "      <td>2.31</td>\n",
       "    </tr>\n",
       "    <tr>\n",
       "      <th>2</th>\n",
       "      <td>0.23</td>\n",
       "      <td>Good</td>\n",
       "      <td>E</td>\n",
       "      <td>VS1</td>\n",
       "      <td>56.9</td>\n",
       "      <td>65.0</td>\n",
       "      <td>327</td>\n",
       "      <td>4.05</td>\n",
       "      <td>4.07</td>\n",
       "      <td>2.31</td>\n",
       "    </tr>\n",
       "    <tr>\n",
       "      <th>3</th>\n",
       "      <td>0.29</td>\n",
       "      <td>Premium</td>\n",
       "      <td>I</td>\n",
       "      <td>VS2</td>\n",
       "      <td>62.4</td>\n",
       "      <td>58.0</td>\n",
       "      <td>334</td>\n",
       "      <td>4.20</td>\n",
       "      <td>4.23</td>\n",
       "      <td>2.63</td>\n",
       "    </tr>\n",
       "    <tr>\n",
       "      <th>4</th>\n",
       "      <td>0.31</td>\n",
       "      <td>Good</td>\n",
       "      <td>J</td>\n",
       "      <td>SI2</td>\n",
       "      <td>63.3</td>\n",
       "      <td>58.0</td>\n",
       "      <td>335</td>\n",
       "      <td>4.34</td>\n",
       "      <td>4.35</td>\n",
       "      <td>2.75</td>\n",
       "    </tr>\n",
       "    <tr>\n",
       "      <th>...</th>\n",
       "      <td>...</td>\n",
       "      <td>...</td>\n",
       "      <td>...</td>\n",
       "      <td>...</td>\n",
       "      <td>...</td>\n",
       "      <td>...</td>\n",
       "      <td>...</td>\n",
       "      <td>...</td>\n",
       "      <td>...</td>\n",
       "      <td>...</td>\n",
       "    </tr>\n",
       "    <tr>\n",
       "      <th>53935</th>\n",
       "      <td>0.72</td>\n",
       "      <td>Ideal</td>\n",
       "      <td>D</td>\n",
       "      <td>SI1</td>\n",
       "      <td>60.8</td>\n",
       "      <td>57.0</td>\n",
       "      <td>2757</td>\n",
       "      <td>5.75</td>\n",
       "      <td>5.76</td>\n",
       "      <td>3.50</td>\n",
       "    </tr>\n",
       "    <tr>\n",
       "      <th>53936</th>\n",
       "      <td>0.72</td>\n",
       "      <td>Good</td>\n",
       "      <td>D</td>\n",
       "      <td>SI1</td>\n",
       "      <td>63.1</td>\n",
       "      <td>55.0</td>\n",
       "      <td>2757</td>\n",
       "      <td>5.69</td>\n",
       "      <td>5.75</td>\n",
       "      <td>3.61</td>\n",
       "    </tr>\n",
       "    <tr>\n",
       "      <th>53937</th>\n",
       "      <td>0.70</td>\n",
       "      <td>Very Good</td>\n",
       "      <td>D</td>\n",
       "      <td>SI1</td>\n",
       "      <td>62.8</td>\n",
       "      <td>60.0</td>\n",
       "      <td>2757</td>\n",
       "      <td>5.66</td>\n",
       "      <td>5.68</td>\n",
       "      <td>3.56</td>\n",
       "    </tr>\n",
       "    <tr>\n",
       "      <th>53938</th>\n",
       "      <td>0.86</td>\n",
       "      <td>Premium</td>\n",
       "      <td>H</td>\n",
       "      <td>SI2</td>\n",
       "      <td>61.0</td>\n",
       "      <td>58.0</td>\n",
       "      <td>2757</td>\n",
       "      <td>6.15</td>\n",
       "      <td>6.12</td>\n",
       "      <td>3.74</td>\n",
       "    </tr>\n",
       "    <tr>\n",
       "      <th>53939</th>\n",
       "      <td>0.75</td>\n",
       "      <td>Ideal</td>\n",
       "      <td>D</td>\n",
       "      <td>SI2</td>\n",
       "      <td>62.2</td>\n",
       "      <td>55.0</td>\n",
       "      <td>2757</td>\n",
       "      <td>5.83</td>\n",
       "      <td>5.87</td>\n",
       "      <td>3.64</td>\n",
       "    </tr>\n",
       "  </tbody>\n",
       "</table>\n",
       "<p>53940 rows × 10 columns</p>\n",
       "</div>"
      ],
      "text/plain": [
       "       carat        cut color clarity  depth  table  price     x     y     z\n",
       "0       0.23      Ideal     E     SI2   61.5   55.0    326  3.95  3.98  2.43\n",
       "1       0.21    Premium     E     SI1   59.8   61.0    326  3.89  3.84  2.31\n",
       "2       0.23       Good     E     VS1   56.9   65.0    327  4.05  4.07  2.31\n",
       "3       0.29    Premium     I     VS2   62.4   58.0    334  4.20  4.23  2.63\n",
       "4       0.31       Good     J     SI2   63.3   58.0    335  4.34  4.35  2.75\n",
       "...      ...        ...   ...     ...    ...    ...    ...   ...   ...   ...\n",
       "53935   0.72      Ideal     D     SI1   60.8   57.0   2757  5.75  5.76  3.50\n",
       "53936   0.72       Good     D     SI1   63.1   55.0   2757  5.69  5.75  3.61\n",
       "53937   0.70  Very Good     D     SI1   62.8   60.0   2757  5.66  5.68  3.56\n",
       "53938   0.86    Premium     H     SI2   61.0   58.0   2757  6.15  6.12  3.74\n",
       "53939   0.75      Ideal     D     SI2   62.2   55.0   2757  5.83  5.87  3.64\n",
       "\n",
       "[53940 rows x 10 columns]"
      ]
     },
     "execution_count": 4,
     "metadata": {},
     "output_type": "execute_result"
    }
   ],
   "source": [
    "df = sns.load_dataset(\"diamonds\")\n",
    "df"
   ]
  },
  {
   "cell_type": "code",
   "execution_count": 5,
   "id": "46b08d23",
   "metadata": {},
   "outputs": [
    {
     "name": "stdout",
     "output_type": "stream",
     "text": [
      "<class 'pandas.core.frame.DataFrame'>\n",
      "RangeIndex: 53940 entries, 0 to 53939\n",
      "Data columns (total 10 columns):\n",
      " #   Column   Non-Null Count  Dtype   \n",
      "---  ------   --------------  -----   \n",
      " 0   carat    53940 non-null  float64 \n",
      " 1   cut      53940 non-null  category\n",
      " 2   color    53940 non-null  category\n",
      " 3   clarity  53940 non-null  category\n",
      " 4   depth    53940 non-null  float64 \n",
      " 5   table    53940 non-null  float64 \n",
      " 6   price    53940 non-null  int64   \n",
      " 7   x        53940 non-null  float64 \n",
      " 8   y        53940 non-null  float64 \n",
      " 9   z        53940 non-null  float64 \n",
      "dtypes: category(3), float64(6), int64(1)\n",
      "memory usage: 3.0 MB\n"
     ]
    }
   ],
   "source": [
    "df.info()"
   ]
  },
  {
   "cell_type": "markdown",
   "id": "e6da0778",
   "metadata": {},
   "source": [
    "info about dataset\n",
    "\n",
    "+ carat :Carat weight of the diamond\n",
    "+ depth % :The height of a diamond, measured from the culet to the table, divided by its average   girdle diameter\n",
    "+ table % :The width of the diamond's table expressed as a percentage of its average diameter\n",
    "+ price :the price of the diamond\n",
    "+ x :length mm\n",
    "+ y :width mm\n",
    "+ z :higth mm\n"
   ]
  },
  {
   "cell_type": "code",
   "execution_count": 6,
   "id": "fcf74627",
   "metadata": {},
   "outputs": [
    {
     "data": {
      "text/html": [
       "<div>\n",
       "<style scoped>\n",
       "    .dataframe tbody tr th:only-of-type {\n",
       "        vertical-align: middle;\n",
       "    }\n",
       "\n",
       "    .dataframe tbody tr th {\n",
       "        vertical-align: top;\n",
       "    }\n",
       "\n",
       "    .dataframe thead th {\n",
       "        text-align: right;\n",
       "    }\n",
       "</style>\n",
       "<table border=\"1\" class=\"dataframe\">\n",
       "  <thead>\n",
       "    <tr style=\"text-align: right;\">\n",
       "      <th></th>\n",
       "      <th>carat</th>\n",
       "      <th>depth</th>\n",
       "      <th>table</th>\n",
       "      <th>price</th>\n",
       "      <th>x</th>\n",
       "      <th>y</th>\n",
       "      <th>z</th>\n",
       "    </tr>\n",
       "  </thead>\n",
       "  <tbody>\n",
       "    <tr>\n",
       "      <th>carat</th>\n",
       "      <td>1.000000</td>\n",
       "      <td>0.028224</td>\n",
       "      <td>0.181618</td>\n",
       "      <td>0.921591</td>\n",
       "      <td>0.975094</td>\n",
       "      <td>0.951722</td>\n",
       "      <td>0.953387</td>\n",
       "    </tr>\n",
       "    <tr>\n",
       "      <th>depth</th>\n",
       "      <td>0.028224</td>\n",
       "      <td>1.000000</td>\n",
       "      <td>-0.295779</td>\n",
       "      <td>-0.010647</td>\n",
       "      <td>-0.025289</td>\n",
       "      <td>-0.029341</td>\n",
       "      <td>0.094924</td>\n",
       "    </tr>\n",
       "    <tr>\n",
       "      <th>table</th>\n",
       "      <td>0.181618</td>\n",
       "      <td>-0.295779</td>\n",
       "      <td>1.000000</td>\n",
       "      <td>0.127134</td>\n",
       "      <td>0.195344</td>\n",
       "      <td>0.183760</td>\n",
       "      <td>0.150929</td>\n",
       "    </tr>\n",
       "    <tr>\n",
       "      <th>price</th>\n",
       "      <td>0.921591</td>\n",
       "      <td>-0.010647</td>\n",
       "      <td>0.127134</td>\n",
       "      <td>1.000000</td>\n",
       "      <td>0.884435</td>\n",
       "      <td>0.865421</td>\n",
       "      <td>0.861249</td>\n",
       "    </tr>\n",
       "    <tr>\n",
       "      <th>x</th>\n",
       "      <td>0.975094</td>\n",
       "      <td>-0.025289</td>\n",
       "      <td>0.195344</td>\n",
       "      <td>0.884435</td>\n",
       "      <td>1.000000</td>\n",
       "      <td>0.974701</td>\n",
       "      <td>0.970772</td>\n",
       "    </tr>\n",
       "    <tr>\n",
       "      <th>y</th>\n",
       "      <td>0.951722</td>\n",
       "      <td>-0.029341</td>\n",
       "      <td>0.183760</td>\n",
       "      <td>0.865421</td>\n",
       "      <td>0.974701</td>\n",
       "      <td>1.000000</td>\n",
       "      <td>0.952006</td>\n",
       "    </tr>\n",
       "    <tr>\n",
       "      <th>z</th>\n",
       "      <td>0.953387</td>\n",
       "      <td>0.094924</td>\n",
       "      <td>0.150929</td>\n",
       "      <td>0.861249</td>\n",
       "      <td>0.970772</td>\n",
       "      <td>0.952006</td>\n",
       "      <td>1.000000</td>\n",
       "    </tr>\n",
       "  </tbody>\n",
       "</table>\n",
       "</div>"
      ],
      "text/plain": [
       "          carat     depth     table     price         x         y         z\n",
       "carat  1.000000  0.028224  0.181618  0.921591  0.975094  0.951722  0.953387\n",
       "depth  0.028224  1.000000 -0.295779 -0.010647 -0.025289 -0.029341  0.094924\n",
       "table  0.181618 -0.295779  1.000000  0.127134  0.195344  0.183760  0.150929\n",
       "price  0.921591 -0.010647  0.127134  1.000000  0.884435  0.865421  0.861249\n",
       "x      0.975094 -0.025289  0.195344  0.884435  1.000000  0.974701  0.970772\n",
       "y      0.951722 -0.029341  0.183760  0.865421  0.974701  1.000000  0.952006\n",
       "z      0.953387  0.094924  0.150929  0.861249  0.970772  0.952006  1.000000"
      ]
     },
     "execution_count": 6,
     "metadata": {},
     "output_type": "execute_result"
    }
   ],
   "source": [
    "df.corr()"
   ]
  },
  {
   "cell_type": "code",
   "execution_count": 7,
   "id": "4090c867",
   "metadata": {},
   "outputs": [
    {
     "data": {
      "text/html": [
       "<div>\n",
       "<style scoped>\n",
       "    .dataframe tbody tr th:only-of-type {\n",
       "        vertical-align: middle;\n",
       "    }\n",
       "\n",
       "    .dataframe tbody tr th {\n",
       "        vertical-align: top;\n",
       "    }\n",
       "\n",
       "    .dataframe thead th {\n",
       "        text-align: right;\n",
       "    }\n",
       "</style>\n",
       "<table border=\"1\" class=\"dataframe\">\n",
       "  <thead>\n",
       "    <tr style=\"text-align: right;\">\n",
       "      <th></th>\n",
       "      <th>carat</th>\n",
       "      <th>depth</th>\n",
       "      <th>table</th>\n",
       "      <th>price</th>\n",
       "      <th>x</th>\n",
       "      <th>y</th>\n",
       "      <th>z</th>\n",
       "    </tr>\n",
       "  </thead>\n",
       "  <tbody>\n",
       "    <tr>\n",
       "      <th>count</th>\n",
       "      <td>53940.000000</td>\n",
       "      <td>53940.000000</td>\n",
       "      <td>53940.000000</td>\n",
       "      <td>53940.000000</td>\n",
       "      <td>53940.000000</td>\n",
       "      <td>53940.000000</td>\n",
       "      <td>53940.000000</td>\n",
       "    </tr>\n",
       "    <tr>\n",
       "      <th>mean</th>\n",
       "      <td>0.797940</td>\n",
       "      <td>61.749405</td>\n",
       "      <td>57.457184</td>\n",
       "      <td>3932.799722</td>\n",
       "      <td>5.731157</td>\n",
       "      <td>5.734526</td>\n",
       "      <td>3.538734</td>\n",
       "    </tr>\n",
       "    <tr>\n",
       "      <th>std</th>\n",
       "      <td>0.474011</td>\n",
       "      <td>1.432621</td>\n",
       "      <td>2.234491</td>\n",
       "      <td>3989.439738</td>\n",
       "      <td>1.121761</td>\n",
       "      <td>1.142135</td>\n",
       "      <td>0.705699</td>\n",
       "    </tr>\n",
       "    <tr>\n",
       "      <th>min</th>\n",
       "      <td>0.200000</td>\n",
       "      <td>43.000000</td>\n",
       "      <td>43.000000</td>\n",
       "      <td>326.000000</td>\n",
       "      <td>0.000000</td>\n",
       "      <td>0.000000</td>\n",
       "      <td>0.000000</td>\n",
       "    </tr>\n",
       "    <tr>\n",
       "      <th>25%</th>\n",
       "      <td>0.400000</td>\n",
       "      <td>61.000000</td>\n",
       "      <td>56.000000</td>\n",
       "      <td>950.000000</td>\n",
       "      <td>4.710000</td>\n",
       "      <td>4.720000</td>\n",
       "      <td>2.910000</td>\n",
       "    </tr>\n",
       "    <tr>\n",
       "      <th>50%</th>\n",
       "      <td>0.700000</td>\n",
       "      <td>61.800000</td>\n",
       "      <td>57.000000</td>\n",
       "      <td>2401.000000</td>\n",
       "      <td>5.700000</td>\n",
       "      <td>5.710000</td>\n",
       "      <td>3.530000</td>\n",
       "    </tr>\n",
       "    <tr>\n",
       "      <th>75%</th>\n",
       "      <td>1.040000</td>\n",
       "      <td>62.500000</td>\n",
       "      <td>59.000000</td>\n",
       "      <td>5324.250000</td>\n",
       "      <td>6.540000</td>\n",
       "      <td>6.540000</td>\n",
       "      <td>4.040000</td>\n",
       "    </tr>\n",
       "    <tr>\n",
       "      <th>max</th>\n",
       "      <td>5.010000</td>\n",
       "      <td>79.000000</td>\n",
       "      <td>95.000000</td>\n",
       "      <td>18823.000000</td>\n",
       "      <td>10.740000</td>\n",
       "      <td>58.900000</td>\n",
       "      <td>31.800000</td>\n",
       "    </tr>\n",
       "  </tbody>\n",
       "</table>\n",
       "</div>"
      ],
      "text/plain": [
       "              carat         depth         table         price             x  \\\n",
       "count  53940.000000  53940.000000  53940.000000  53940.000000  53940.000000   \n",
       "mean       0.797940     61.749405     57.457184   3932.799722      5.731157   \n",
       "std        0.474011      1.432621      2.234491   3989.439738      1.121761   \n",
       "min        0.200000     43.000000     43.000000    326.000000      0.000000   \n",
       "25%        0.400000     61.000000     56.000000    950.000000      4.710000   \n",
       "50%        0.700000     61.800000     57.000000   2401.000000      5.700000   \n",
       "75%        1.040000     62.500000     59.000000   5324.250000      6.540000   \n",
       "max        5.010000     79.000000     95.000000  18823.000000     10.740000   \n",
       "\n",
       "                  y             z  \n",
       "count  53940.000000  53940.000000  \n",
       "mean       5.734526      3.538734  \n",
       "std        1.142135      0.705699  \n",
       "min        0.000000      0.000000  \n",
       "25%        4.720000      2.910000  \n",
       "50%        5.710000      3.530000  \n",
       "75%        6.540000      4.040000  \n",
       "max       58.900000     31.800000  "
      ]
     },
     "execution_count": 7,
     "metadata": {},
     "output_type": "execute_result"
    }
   ],
   "source": [
    "df.describe()"
   ]
  },
  {
   "cell_type": "code",
   "execution_count": 8,
   "id": "8710b34b",
   "metadata": {},
   "outputs": [
    {
     "data": {
      "text/html": [
       "<div>\n",
       "<style scoped>\n",
       "    .dataframe tbody tr th:only-of-type {\n",
       "        vertical-align: middle;\n",
       "    }\n",
       "\n",
       "    .dataframe tbody tr th {\n",
       "        vertical-align: top;\n",
       "    }\n",
       "\n",
       "    .dataframe thead th {\n",
       "        text-align: right;\n",
       "    }\n",
       "</style>\n",
       "<table border=\"1\" class=\"dataframe\">\n",
       "  <thead>\n",
       "    <tr style=\"text-align: right;\">\n",
       "      <th></th>\n",
       "      <th>count</th>\n",
       "      <th>unique</th>\n",
       "      <th>top</th>\n",
       "      <th>freq</th>\n",
       "      <th>mean</th>\n",
       "      <th>std</th>\n",
       "      <th>min</th>\n",
       "      <th>25%</th>\n",
       "      <th>50%</th>\n",
       "      <th>75%</th>\n",
       "      <th>max</th>\n",
       "    </tr>\n",
       "  </thead>\n",
       "  <tbody>\n",
       "    <tr>\n",
       "      <th>carat</th>\n",
       "      <td>53940.0</td>\n",
       "      <td>NaN</td>\n",
       "      <td>NaN</td>\n",
       "      <td>NaN</td>\n",
       "      <td>0.79794</td>\n",
       "      <td>0.474011</td>\n",
       "      <td>0.2</td>\n",
       "      <td>0.4</td>\n",
       "      <td>0.7</td>\n",
       "      <td>1.04</td>\n",
       "      <td>5.01</td>\n",
       "    </tr>\n",
       "    <tr>\n",
       "      <th>cut</th>\n",
       "      <td>53940</td>\n",
       "      <td>5</td>\n",
       "      <td>Ideal</td>\n",
       "      <td>21551</td>\n",
       "      <td>NaN</td>\n",
       "      <td>NaN</td>\n",
       "      <td>NaN</td>\n",
       "      <td>NaN</td>\n",
       "      <td>NaN</td>\n",
       "      <td>NaN</td>\n",
       "      <td>NaN</td>\n",
       "    </tr>\n",
       "    <tr>\n",
       "      <th>color</th>\n",
       "      <td>53940</td>\n",
       "      <td>7</td>\n",
       "      <td>G</td>\n",
       "      <td>11292</td>\n",
       "      <td>NaN</td>\n",
       "      <td>NaN</td>\n",
       "      <td>NaN</td>\n",
       "      <td>NaN</td>\n",
       "      <td>NaN</td>\n",
       "      <td>NaN</td>\n",
       "      <td>NaN</td>\n",
       "    </tr>\n",
       "    <tr>\n",
       "      <th>clarity</th>\n",
       "      <td>53940</td>\n",
       "      <td>8</td>\n",
       "      <td>SI1</td>\n",
       "      <td>13065</td>\n",
       "      <td>NaN</td>\n",
       "      <td>NaN</td>\n",
       "      <td>NaN</td>\n",
       "      <td>NaN</td>\n",
       "      <td>NaN</td>\n",
       "      <td>NaN</td>\n",
       "      <td>NaN</td>\n",
       "    </tr>\n",
       "    <tr>\n",
       "      <th>depth</th>\n",
       "      <td>53940.0</td>\n",
       "      <td>NaN</td>\n",
       "      <td>NaN</td>\n",
       "      <td>NaN</td>\n",
       "      <td>61.749405</td>\n",
       "      <td>1.432621</td>\n",
       "      <td>43.0</td>\n",
       "      <td>61.0</td>\n",
       "      <td>61.8</td>\n",
       "      <td>62.5</td>\n",
       "      <td>79.0</td>\n",
       "    </tr>\n",
       "    <tr>\n",
       "      <th>table</th>\n",
       "      <td>53940.0</td>\n",
       "      <td>NaN</td>\n",
       "      <td>NaN</td>\n",
       "      <td>NaN</td>\n",
       "      <td>57.457184</td>\n",
       "      <td>2.234491</td>\n",
       "      <td>43.0</td>\n",
       "      <td>56.0</td>\n",
       "      <td>57.0</td>\n",
       "      <td>59.0</td>\n",
       "      <td>95.0</td>\n",
       "    </tr>\n",
       "    <tr>\n",
       "      <th>price</th>\n",
       "      <td>53940.0</td>\n",
       "      <td>NaN</td>\n",
       "      <td>NaN</td>\n",
       "      <td>NaN</td>\n",
       "      <td>3932.799722</td>\n",
       "      <td>3989.439738</td>\n",
       "      <td>326.0</td>\n",
       "      <td>950.0</td>\n",
       "      <td>2401.0</td>\n",
       "      <td>5324.25</td>\n",
       "      <td>18823.0</td>\n",
       "    </tr>\n",
       "    <tr>\n",
       "      <th>x</th>\n",
       "      <td>53940.0</td>\n",
       "      <td>NaN</td>\n",
       "      <td>NaN</td>\n",
       "      <td>NaN</td>\n",
       "      <td>5.731157</td>\n",
       "      <td>1.121761</td>\n",
       "      <td>0.0</td>\n",
       "      <td>4.71</td>\n",
       "      <td>5.7</td>\n",
       "      <td>6.54</td>\n",
       "      <td>10.74</td>\n",
       "    </tr>\n",
       "    <tr>\n",
       "      <th>y</th>\n",
       "      <td>53940.0</td>\n",
       "      <td>NaN</td>\n",
       "      <td>NaN</td>\n",
       "      <td>NaN</td>\n",
       "      <td>5.734526</td>\n",
       "      <td>1.142135</td>\n",
       "      <td>0.0</td>\n",
       "      <td>4.72</td>\n",
       "      <td>5.71</td>\n",
       "      <td>6.54</td>\n",
       "      <td>58.9</td>\n",
       "    </tr>\n",
       "    <tr>\n",
       "      <th>z</th>\n",
       "      <td>53940.0</td>\n",
       "      <td>NaN</td>\n",
       "      <td>NaN</td>\n",
       "      <td>NaN</td>\n",
       "      <td>3.538734</td>\n",
       "      <td>0.705699</td>\n",
       "      <td>0.0</td>\n",
       "      <td>2.91</td>\n",
       "      <td>3.53</td>\n",
       "      <td>4.04</td>\n",
       "      <td>31.8</td>\n",
       "    </tr>\n",
       "  </tbody>\n",
       "</table>\n",
       "</div>"
      ],
      "text/plain": [
       "           count unique    top   freq         mean          std    min    25%  \\\n",
       "carat    53940.0    NaN    NaN    NaN      0.79794     0.474011    0.2    0.4   \n",
       "cut        53940      5  Ideal  21551          NaN          NaN    NaN    NaN   \n",
       "color      53940      7      G  11292          NaN          NaN    NaN    NaN   \n",
       "clarity    53940      8    SI1  13065          NaN          NaN    NaN    NaN   \n",
       "depth    53940.0    NaN    NaN    NaN    61.749405     1.432621   43.0   61.0   \n",
       "table    53940.0    NaN    NaN    NaN    57.457184     2.234491   43.0   56.0   \n",
       "price    53940.0    NaN    NaN    NaN  3932.799722  3989.439738  326.0  950.0   \n",
       "x        53940.0    NaN    NaN    NaN     5.731157     1.121761    0.0   4.71   \n",
       "y        53940.0    NaN    NaN    NaN     5.734526     1.142135    0.0   4.72   \n",
       "z        53940.0    NaN    NaN    NaN     3.538734     0.705699    0.0   2.91   \n",
       "\n",
       "            50%      75%      max  \n",
       "carat       0.7     1.04     5.01  \n",
       "cut         NaN      NaN      NaN  \n",
       "color       NaN      NaN      NaN  \n",
       "clarity     NaN      NaN      NaN  \n",
       "depth      61.8     62.5     79.0  \n",
       "table      57.0     59.0     95.0  \n",
       "price    2401.0  5324.25  18823.0  \n",
       "x           5.7     6.54    10.74  \n",
       "y          5.71     6.54     58.9  \n",
       "z          3.53     4.04     31.8  "
      ]
     },
     "execution_count": 8,
     "metadata": {},
     "output_type": "execute_result"
    }
   ],
   "source": [
    "df.describe(include = \"all\").T"
   ]
  },
  {
   "cell_type": "code",
   "execution_count": 9,
   "id": "6663f25d",
   "metadata": {},
   "outputs": [
    {
     "data": {
      "text/plain": [
       "0.127133902121742"
      ]
     },
     "execution_count": 9,
     "metadata": {},
     "output_type": "execute_result"
    }
   ],
   "source": [
    "df.price.corr(df[\"table\"])"
   ]
  },
  {
   "cell_type": "code",
   "execution_count": 10,
   "id": "deca0555",
   "metadata": {},
   "outputs": [
    {
     "data": {
      "text/plain": [
       "-0.010647404584142976"
      ]
     },
     "execution_count": 10,
     "metadata": {},
     "output_type": "execute_result"
    }
   ],
   "source": [
    "df.price.corr(df[\"depth\"])"
   ]
  },
  {
   "cell_type": "code",
   "execution_count": 11,
   "id": "73c141b8",
   "metadata": {},
   "outputs": [
    {
     "data": {
      "text/plain": [
       "0.921591301193476"
      ]
     },
     "execution_count": 11,
     "metadata": {},
     "output_type": "execute_result"
    }
   ],
   "source": [
    "df.price.corr(df[\"carat\"])"
   ]
  },
  {
   "cell_type": "code",
   "execution_count": 12,
   "id": "6c95cf63",
   "metadata": {},
   "outputs": [
    {
     "data": {
      "text/plain": [
       "0.884435161016128"
      ]
     },
     "execution_count": 12,
     "metadata": {},
     "output_type": "execute_result"
    }
   ],
   "source": [
    "df.price.corr(df[\"x\"])"
   ]
  },
  {
   "cell_type": "code",
   "execution_count": 13,
   "id": "6d75add1",
   "metadata": {},
   "outputs": [],
   "source": [
    "# df = df[[\"carat\", \"price\"]]\n",
    "# df"
   ]
  },
  {
   "cell_type": "markdown",
   "id": "729c8eaf",
   "metadata": {},
   "source": [
    "## Detecting Outliers with Graphs"
   ]
  },
  {
   "cell_type": "code",
   "execution_count": 14,
   "id": "7f80a933",
   "metadata": {},
   "outputs": [
    {
     "data": {
      "text/plain": [
       "<AxesSubplot:xlabel='carat'>"
      ]
     },
     "execution_count": 14,
     "metadata": {},
     "output_type": "execute_result"
    },
    {
     "data": {
      "image/png": "[encoded data removed]",
      "text/plain": [
       "<Figure size 1500x800 with 1 Axes>"
      ]
     },
     "metadata": {},
     "output_type": "display_data"
    }
   ],
   "source": [
    "plt.figure(figsize = (15,8))\n",
    "sns.boxplot(x = df[\"carat\"])"
   ]
  },
  {
   "cell_type": "code",
   "execution_count": 15,
   "id": "e2444f83",
   "metadata": {},
   "outputs": [
    {
     "data": {
      "text/plain": [
       "<AxesSubplot:xlabel='x'>"
      ]
     },
     "execution_count": 15,
     "metadata": {},
     "output_type": "execute_result"
    },
    {
     "data": {
      "image/png": "[encoded data removed]",
      "text/plain": [
       "<Figure size 1500x800 with 1 Axes>"
      ]
     },
     "metadata": {},
     "output_type": "display_data"
    }
   ],
   "source": [
    "plt.figure(figsize = (15,8))\n",
    "sns.boxplot(x = df[\"x\"])"
   ]
  },
  {
   "cell_type": "code",
   "execution_count": 16,
   "id": "f2b4ef77",
   "metadata": {},
   "outputs": [
    {
     "data": {
      "text/plain": [
       "<seaborn.axisgrid.FacetGrid at 0x200f15036a0>"
      ]
     },
     "execution_count": 16,
     "metadata": {},
     "output_type": "execute_result"
    },
    {
     "data": {
      "text/plain": [
       "<Figure size 1500x800 with 0 Axes>"
      ]
     },
     "metadata": {},
     "output_type": "display_data"
    },
    {
     "data": {
      "image/png": "[encoded data removed]",
      "text/plain": [
       "<Figure size 500x500 with 1 Axes>"
      ]
     },
     "metadata": {},
     "output_type": "display_data"
    }
   ],
   "source": [
    "plt.figure(figsize = (15, 8))\n",
    "sns.displot(df.carat, bins = 10, kde = False)"
   ]
  },
  {
   "cell_type": "code",
   "execution_count": 17,
   "id": "3fa00544",
   "metadata": {},
   "outputs": [
    {
     "data": {
      "text/plain": [
       "<AxesSubplot:xlabel='price'>"
      ]
     },
     "execution_count": 17,
     "metadata": {},
     "output_type": "execute_result"
    },
    {
     "data": {
      "image/png": "[encoded data removed]",
      "text/plain": [
       "<Figure size 1500x800 with 1 Axes>"
      ]
     },
     "metadata": {},
     "output_type": "display_data"
    }
   ],
   "source": [
    "plt.figure(figsize = (15,8))\n",
    "sns.boxplot(x = df[\"price\"])"
   ]
  },
  {
   "cell_type": "code",
   "execution_count": 18,
   "id": "7b77e38b",
   "metadata": {},
   "outputs": [
    {
     "data": {
      "text/plain": [
       "<seaborn.axisgrid.FacetGrid at 0x200f18f2f10>"
      ]
     },
     "execution_count": 18,
     "metadata": {},
     "output_type": "execute_result"
    },
    {
     "data": {
      "text/plain": [
       "<Figure size 1500x800 with 0 Axes>"
      ]
     },
     "metadata": {},
     "output_type": "display_data"
    },
    {
     "data": {
      "image/png": "[encoded data removed]",
      "text/plain": [
       "<Figure size 500x500 with 1 Axes>"
      ]
     },
     "metadata": {},
     "output_type": "display_data"
    }
   ],
   "source": [
    "plt.figure(figsize= (15,8))\n",
    "sns.displot(x = df.price)"
   ]
  },
  {
   "cell_type": "code",
   "execution_count": 19,
   "id": "d57ad563",
   "metadata": {},
   "outputs": [
    {
     "data": {
      "text/plain": [
       "31593    0.20\n",
       "31597    0.20\n",
       "31596    0.20\n",
       "31595    0.20\n",
       "31594    0.20\n",
       "         ... \n",
       "25999    4.01\n",
       "25998    4.01\n",
       "27130    4.13\n",
       "27630    4.50\n",
       "27415    5.01\n",
       "Name: carat, Length: 53940, dtype: float64"
      ]
     },
     "execution_count": 19,
     "metadata": {},
     "output_type": "execute_result"
    }
   ],
   "source": [
    "df.carat.sort_values(ascending=True)"
   ]
  },
  {
   "cell_type": "code",
   "execution_count": 20,
   "id": "d9b87bdd",
   "metadata": {},
   "outputs": [
    {
     "data": {
      "text/plain": [
       "24328    3.50\n",
       "27679    3.51\n",
       "23644    3.65\n",
       "26534    3.67\n",
       "26444    4.00\n",
       "25999    4.01\n",
       "25998    4.01\n",
       "27130    4.13\n",
       "27630    4.50\n",
       "27415    5.01\n",
       "Name: carat, dtype: float64"
      ]
     },
     "execution_count": 20,
     "metadata": {},
     "output_type": "execute_result"
    }
   ],
   "source": [
    "df.carat.sort_values(ascending = True).tail(10)"
   ]
  },
  {
   "cell_type": "code",
   "execution_count": 21,
   "id": "984c0d3c",
   "metadata": {},
   "outputs": [
    {
     "data": {
      "text/plain": [
       "0          326\n",
       "1          326\n",
       "2          327\n",
       "3          334\n",
       "4          335\n",
       "         ...  \n",
       "27745    18803\n",
       "27746    18804\n",
       "27747    18806\n",
       "27748    18818\n",
       "27749    18823\n",
       "Name: price, Length: 53940, dtype: int64"
      ]
     },
     "execution_count": 21,
     "metadata": {},
     "output_type": "execute_result"
    }
   ],
   "source": [
    "df.price.sort_values(ascending=True)"
   ]
  },
  {
   "cell_type": "code",
   "execution_count": 22,
   "id": "682b7ca9",
   "metadata": {},
   "outputs": [
    {
     "data": {
      "text/plain": [
       "27740    18791\n",
       "27741    18791\n",
       "27742    18795\n",
       "27743    18795\n",
       "27744    18797\n",
       "27745    18803\n",
       "27746    18804\n",
       "27747    18806\n",
       "27748    18818\n",
       "27749    18823\n",
       "Name: price, dtype: int64"
      ]
     },
     "execution_count": 22,
     "metadata": {},
     "output_type": "execute_result"
    }
   ],
   "source": [
    "df.price.sort_values(ascending=True).tail(10)"
   ]
  },
  {
   "cell_type": "code",
   "execution_count": 23,
   "id": "9b43a011",
   "metadata": {},
   "outputs": [
    {
     "data": {
      "text/plain": [
       "Int64Index([24328, 27679, 23644, 26534, 26444, 25999, 25998, 27130, 27630,\n",
       "            27415],\n",
       "           dtype='int64')"
      ]
     },
     "execution_count": 23,
     "metadata": {},
     "output_type": "execute_result"
    }
   ],
   "source": [
    "# Let us take the indexes of these extreme values \n",
    "\n",
    "df.carat.sort_values(ascending=True).tail(10).index"
   ]
  },
  {
   "cell_type": "code",
   "execution_count": 24,
   "id": "ca75285b",
   "metadata": {},
   "outputs": [
    {
     "data": {
      "text/plain": [
       "Int64Index([24328, 27679, 23644, 26534, 26444, 25999, 25998, 27130, 27630,\n",
       "            27415],\n",
       "           dtype='int64')"
      ]
     },
     "execution_count": 24,
     "metadata": {},
     "output_type": "execute_result"
    }
   ],
   "source": [
    "# Let us assign the indexes of these extreme values to an object \n",
    "\n",
    "tail_index = df.carat.sort_values(ascending=True).tail(10).index\n",
    "tail_index"
   ]
  },
  {
   "cell_type": "code",
   "execution_count": 25,
   "id": "8ad20287",
   "metadata": {},
   "outputs": [
    {
     "data": {
      "text/html": [
       "<div>\n",
       "<style scoped>\n",
       "    .dataframe tbody tr th:only-of-type {\n",
       "        vertical-align: middle;\n",
       "    }\n",
       "\n",
       "    .dataframe tbody tr th {\n",
       "        vertical-align: top;\n",
       "    }\n",
       "\n",
       "    .dataframe thead th {\n",
       "        text-align: right;\n",
       "    }\n",
       "</style>\n",
       "<table border=\"1\" class=\"dataframe\">\n",
       "  <thead>\n",
       "    <tr style=\"text-align: right;\">\n",
       "      <th></th>\n",
       "      <th>carat</th>\n",
       "      <th>cut</th>\n",
       "      <th>color</th>\n",
       "      <th>clarity</th>\n",
       "      <th>depth</th>\n",
       "      <th>table</th>\n",
       "      <th>price</th>\n",
       "      <th>x</th>\n",
       "      <th>y</th>\n",
       "      <th>z</th>\n",
       "    </tr>\n",
       "  </thead>\n",
       "  <tbody>\n",
       "    <tr>\n",
       "      <th>24328</th>\n",
       "      <td>3.50</td>\n",
       "      <td>Ideal</td>\n",
       "      <td>H</td>\n",
       "      <td>I1</td>\n",
       "      <td>62.8</td>\n",
       "      <td>57.0</td>\n",
       "      <td>12587</td>\n",
       "      <td>9.65</td>\n",
       "      <td>9.59</td>\n",
       "      <td>6.03</td>\n",
       "    </tr>\n",
       "    <tr>\n",
       "      <th>27679</th>\n",
       "      <td>3.51</td>\n",
       "      <td>Premium</td>\n",
       "      <td>J</td>\n",
       "      <td>VS2</td>\n",
       "      <td>62.5</td>\n",
       "      <td>59.0</td>\n",
       "      <td>18701</td>\n",
       "      <td>9.66</td>\n",
       "      <td>9.63</td>\n",
       "      <td>6.03</td>\n",
       "    </tr>\n",
       "    <tr>\n",
       "      <th>23644</th>\n",
       "      <td>3.65</td>\n",
       "      <td>Fair</td>\n",
       "      <td>H</td>\n",
       "      <td>I1</td>\n",
       "      <td>67.1</td>\n",
       "      <td>53.0</td>\n",
       "      <td>11668</td>\n",
       "      <td>9.53</td>\n",
       "      <td>9.48</td>\n",
       "      <td>6.38</td>\n",
       "    </tr>\n",
       "    <tr>\n",
       "      <th>26534</th>\n",
       "      <td>3.67</td>\n",
       "      <td>Premium</td>\n",
       "      <td>I</td>\n",
       "      <td>I1</td>\n",
       "      <td>62.4</td>\n",
       "      <td>56.0</td>\n",
       "      <td>16193</td>\n",
       "      <td>9.86</td>\n",
       "      <td>9.81</td>\n",
       "      <td>6.13</td>\n",
       "    </tr>\n",
       "    <tr>\n",
       "      <th>26444</th>\n",
       "      <td>4.00</td>\n",
       "      <td>Very Good</td>\n",
       "      <td>I</td>\n",
       "      <td>I1</td>\n",
       "      <td>63.3</td>\n",
       "      <td>58.0</td>\n",
       "      <td>15984</td>\n",
       "      <td>10.01</td>\n",
       "      <td>9.94</td>\n",
       "      <td>6.31</td>\n",
       "    </tr>\n",
       "    <tr>\n",
       "      <th>25999</th>\n",
       "      <td>4.01</td>\n",
       "      <td>Premium</td>\n",
       "      <td>J</td>\n",
       "      <td>I1</td>\n",
       "      <td>62.5</td>\n",
       "      <td>62.0</td>\n",
       "      <td>15223</td>\n",
       "      <td>10.02</td>\n",
       "      <td>9.94</td>\n",
       "      <td>6.24</td>\n",
       "    </tr>\n",
       "    <tr>\n",
       "      <th>25998</th>\n",
       "      <td>4.01</td>\n",
       "      <td>Premium</td>\n",
       "      <td>I</td>\n",
       "      <td>I1</td>\n",
       "      <td>61.0</td>\n",
       "      <td>61.0</td>\n",
       "      <td>15223</td>\n",
       "      <td>10.14</td>\n",
       "      <td>10.10</td>\n",
       "      <td>6.17</td>\n",
       "    </tr>\n",
       "    <tr>\n",
       "      <th>27130</th>\n",
       "      <td>4.13</td>\n",
       "      <td>Fair</td>\n",
       "      <td>H</td>\n",
       "      <td>I1</td>\n",
       "      <td>64.8</td>\n",
       "      <td>61.0</td>\n",
       "      <td>17329</td>\n",
       "      <td>10.00</td>\n",
       "      <td>9.85</td>\n",
       "      <td>6.43</td>\n",
       "    </tr>\n",
       "    <tr>\n",
       "      <th>27630</th>\n",
       "      <td>4.50</td>\n",
       "      <td>Fair</td>\n",
       "      <td>J</td>\n",
       "      <td>I1</td>\n",
       "      <td>65.8</td>\n",
       "      <td>58.0</td>\n",
       "      <td>18531</td>\n",
       "      <td>10.23</td>\n",
       "      <td>10.16</td>\n",
       "      <td>6.72</td>\n",
       "    </tr>\n",
       "    <tr>\n",
       "      <th>27415</th>\n",
       "      <td>5.01</td>\n",
       "      <td>Fair</td>\n",
       "      <td>J</td>\n",
       "      <td>I1</td>\n",
       "      <td>65.5</td>\n",
       "      <td>59.0</td>\n",
       "      <td>18018</td>\n",
       "      <td>10.74</td>\n",
       "      <td>10.54</td>\n",
       "      <td>6.98</td>\n",
       "    </tr>\n",
       "  </tbody>\n",
       "</table>\n",
       "</div>"
      ],
      "text/plain": [
       "       carat        cut color clarity  depth  table  price      x      y     z\n",
       "24328   3.50      Ideal     H      I1   62.8   57.0  12587   9.65   9.59  6.03\n",
       "27679   3.51    Premium     J     VS2   62.5   59.0  18701   9.66   9.63  6.03\n",
       "23644   3.65       Fair     H      I1   67.1   53.0  11668   9.53   9.48  6.38\n",
       "26534   3.67    Premium     I      I1   62.4   56.0  16193   9.86   9.81  6.13\n",
       "26444   4.00  Very Good     I      I1   63.3   58.0  15984  10.01   9.94  6.31\n",
       "25999   4.01    Premium     J      I1   62.5   62.0  15223  10.02   9.94  6.24\n",
       "25998   4.01    Premium     I      I1   61.0   61.0  15223  10.14  10.10  6.17\n",
       "27130   4.13       Fair     H      I1   64.8   61.0  17329  10.00   9.85  6.43\n",
       "27630   4.50       Fair     J      I1   65.8   58.0  18531  10.23  10.16  6.72\n",
       "27415   5.01       Fair     J      I1   65.5   59.0  18018  10.74  10.54  6.98"
      ]
     },
     "execution_count": 25,
     "metadata": {},
     "output_type": "execute_result"
    }
   ],
   "source": [
    "# Let's make a more detailed analysis by calling the observations with these indexes as a dataframe.\n",
    "\n",
    "df.loc[tail_index]"
   ]
  },
  {
   "cell_type": "markdown",
   "id": "995d7ff0",
   "metadata": {},
   "source": [
    "For example; When we compare the observation at the index number 27415 with other observations, we see that the values in the columns, particularly \"table\" and \"price\" ones, are compatible with each other. Therefore, we can assume that the values about this observation are not faulty and this value can be assessed as an extreme value rather than an outlier."
   ]
  },
  {
   "cell_type": "markdown",
   "id": "a6c251d6",
   "metadata": {},
   "source": [
    "## Detecting Outliers with Tukey's Fences | Tukey's Rule\n",
    "Once potential outliers have been identified, you need to decide how best to address them. There is no single best practice for determining what to do. Potential outliers provide a starting point for further investigation.\n",
    "\n",
    "There are many techniques for detecting outliers and no single approach can work for all cases. This part of our study describes an often useful approach based on the interquartile/Tukey fence method for outlier detection.\n",
    "\n",
    "Other common methods for outlier detection are sensitive to extreme values and can perform poorly when applied to skewed distributions. The Tukey fence method is resistant to extreme values and applies to both normal and slightly skewed distributions.\n",
    "\n",
    "In “Exploratory Data Analysis” by John W. Tukey (1977), a multiplier of 1.5 was proposed for labeling outliers. Tukey's rule says that the outliers are values more than 1.5 times the interquartile range from the quartiles — either below Q1 − 1.5IQR, or above Q3 + 1.5IQR.\n",
    "\n",
    "https://towardsdatascience.com/practical-guide-to-outlier-detection-methods-6b9f947a161e\n",
    "\n",
    "https://en.wikipedia.org/wiki/Interquartile_range\n",
    "\n",
    "In descriptive statistics, the interquartile range is a measure of statistical dispersion, which is the spread of the data. It tells you the spread of the middle half of your distribution. Quartiles segment any distribution that's ordered from low to high into four equal parts. The interquartile range (IQR) contains the second and third quartiles, or the middle half of your data set."
   ]
  },
  {
   "cell_type": "code",
   "execution_count": 26,
   "id": "3046c761",
   "metadata": {},
   "outputs": [],
   "source": [
    "#  First way of specifying Q1 & Q3 is using the .quantile() method\n",
    "\n",
    "Q1 = df[\"carat\"].quantile(0.25)\n",
    "Q3 = df[\"carat\"].quantile(0.75)\n",
    "\n",
    "IQR = Q3 - Q1"
   ]
  },
  {
   "cell_type": "code",
   "execution_count": 27,
   "id": "a4de432b",
   "metadata": {},
   "outputs": [
    {
     "data": {
      "text/plain": [
       "0.64"
      ]
     },
     "execution_count": 27,
     "metadata": {},
     "output_type": "execute_result"
    }
   ],
   "source": [
    "IQR"
   ]
  },
  {
   "cell_type": "code",
   "execution_count": 28,
   "id": "b6fec493",
   "metadata": {},
   "outputs": [
    {
     "data": {
      "text/plain": [
       "count    53940.000000\n",
       "mean         0.797940\n",
       "std          0.474011\n",
       "min          0.200000\n",
       "25%          0.400000\n",
       "50%          0.700000\n",
       "75%          1.040000\n",
       "max          5.010000\n",
       "Name: carat, dtype: float64"
      ]
     },
     "execution_count": 28,
     "metadata": {},
     "output_type": "execute_result"
    }
   ],
   "source": [
    "#  Second way of specifying Q1 & Q3 is using the .describe() method\n",
    "\n",
    "df.carat.describe()"
   ]
  },
  {
   "cell_type": "code",
   "execution_count": 29,
   "id": "53c891f5",
   "metadata": {},
   "outputs": [
    {
     "data": {
      "text/plain": [
       "0.64"
      ]
     },
     "execution_count": 29,
     "metadata": {},
     "output_type": "execute_result"
    }
   ],
   "source": [
    "Q1 = df.carat.describe().loc[\"25%\"]\n",
    "Q3 = df.carat.describe().loc[\"75%\"]\n",
    "IQR = Q3 - Q1\n",
    "IQR"
   ]
  },
  {
   "cell_type": "code",
   "execution_count": 30,
   "id": "a688aae3",
   "metadata": {},
   "outputs": [
    {
     "data": {
      "text/plain": [
       "0.64"
      ]
     },
     "execution_count": 30,
     "metadata": {},
     "output_type": "execute_result"
    }
   ],
   "source": [
    "##  Third way of specifying IQR is using the scipy.stats.iqr method\n",
    "\n",
    "from scipy import stats\n",
    "\n",
    "IQR = stats.iqr(df.carat)\n",
    "IQR"
   ]
  },
  {
   "cell_type": "code",
   "execution_count": 31,
   "id": "17d44b38",
   "metadata": {},
   "outputs": [],
   "source": [
    "lower_lim = Q1 - 1.5 * IQR # we defined the lower limit creteria\n",
    "upper_lim = Q3 + 1.5 * IQR # we defined the upper limit creteria"
   ]
  },
  {
   "cell_type": "code",
   "execution_count": 32,
   "id": "3c077305",
   "metadata": {},
   "outputs": [
    {
     "data": {
      "text/plain": [
       "-0.5599999999999999"
      ]
     },
     "execution_count": 32,
     "metadata": {},
     "output_type": "execute_result"
    }
   ],
   "source": [
    "lower_lim"
   ]
  },
  {
   "cell_type": "code",
   "execution_count": 33,
   "id": "3215a660",
   "metadata": {},
   "outputs": [
    {
     "data": {
      "text/plain": [
       "2.0"
      ]
     },
     "execution_count": 33,
     "metadata": {},
     "output_type": "execute_result"
    }
   ],
   "source": [
    "upper_lim"
   ]
  },
  {
   "cell_type": "code",
   "execution_count": 34,
   "id": "cb083ccb",
   "metadata": {},
   "outputs": [
    {
     "data": {
      "text/plain": [
       "1889"
      ]
     },
     "execution_count": 34,
     "metadata": {},
     "output_type": "execute_result"
    }
   ],
   "source": [
    "# Let's see how many total potential outliers there are\n",
    "\n",
    "df.carat[(df.carat < lower_lim) | (df.carat > upper_lim)].count()"
   ]
  },
  {
   "cell_type": "code",
   "execution_count": 35,
   "id": "dbaa06a3",
   "metadata": {},
   "outputs": [
    {
     "data": {
      "text/plain": [
       "0.2"
      ]
     },
     "execution_count": 35,
     "metadata": {},
     "output_type": "execute_result"
    }
   ],
   "source": [
    "df.carat.min()"
   ]
  },
  {
   "cell_type": "code",
   "execution_count": 36,
   "id": "ab4b7b40",
   "metadata": {},
   "outputs": [
    {
     "data": {
      "text/plain": [
       "52051"
      ]
     },
     "execution_count": 36,
     "metadata": {},
     "output_type": "execute_result"
    }
   ],
   "source": [
    "# First way how many observations not defined as outliers we have\n",
    "\n",
    "df.carat[~((df.carat < lower_lim) | (df.carat > upper_lim))].count()"
   ]
  },
  {
   "cell_type": "code",
   "execution_count": 37,
   "id": "63d2b10a",
   "metadata": {},
   "outputs": [
    {
     "data": {
      "text/plain": [
       "52051"
      ]
     },
     "execution_count": 37,
     "metadata": {},
     "output_type": "execute_result"
    }
   ],
   "source": [
    "# Second way how many observations not defined as outliers we have\n",
    "\n",
    "df.carat[(df.carat >= lower_lim) & (df.carat <= upper_lim)].count()"
   ]
  },
  {
   "cell_type": "markdown",
   "id": "c46ab06b",
   "metadata": {},
   "source": [
    "# Removing the Outliers"
   ]
  },
  {
   "cell_type": "code",
   "execution_count": 38,
   "id": "ecb90b37",
   "metadata": {},
   "outputs": [
    {
     "data": {
      "text/plain": [
       "0        True\n",
       "1        True\n",
       "2        True\n",
       "3        True\n",
       "4        True\n",
       "         ... \n",
       "53935    True\n",
       "53936    True\n",
       "53937    True\n",
       "53938    True\n",
       "53939    True\n",
       "Name: carat, Length: 53940, dtype: bool"
      ]
     },
     "execution_count": 38,
     "metadata": {},
     "output_type": "execute_result"
    }
   ],
   "source": [
    "# The First Approach:\n",
    "\n",
    "# Let's assign the observations in the \"carat\" column and not defined as outliers to\n",
    "# an object named \"not_outliers\"\n",
    "\n",
    "not_outliers = (df.carat >= lower_lim) & (df.carat <= upper_lim)\n",
    "not_outliers"
   ]
  },
  {
   "cell_type": "code",
   "execution_count": 39,
   "id": "71fe041b",
   "metadata": {},
   "outputs": [
    {
     "data": {
      "text/html": [
       "<div>\n",
       "<style scoped>\n",
       "    .dataframe tbody tr th:only-of-type {\n",
       "        vertical-align: middle;\n",
       "    }\n",
       "\n",
       "    .dataframe tbody tr th {\n",
       "        vertical-align: top;\n",
       "    }\n",
       "\n",
       "    .dataframe thead th {\n",
       "        text-align: right;\n",
       "    }\n",
       "</style>\n",
       "<table border=\"1\" class=\"dataframe\">\n",
       "  <thead>\n",
       "    <tr style=\"text-align: right;\">\n",
       "      <th></th>\n",
       "      <th>carat</th>\n",
       "      <th>cut</th>\n",
       "      <th>color</th>\n",
       "      <th>clarity</th>\n",
       "      <th>depth</th>\n",
       "      <th>table</th>\n",
       "      <th>price</th>\n",
       "      <th>x</th>\n",
       "      <th>y</th>\n",
       "      <th>z</th>\n",
       "    </tr>\n",
       "  </thead>\n",
       "  <tbody>\n",
       "    <tr>\n",
       "      <th>0</th>\n",
       "      <td>0.23</td>\n",
       "      <td>Ideal</td>\n",
       "      <td>E</td>\n",
       "      <td>SI2</td>\n",
       "      <td>61.5</td>\n",
       "      <td>55.0</td>\n",
       "      <td>326</td>\n",
       "      <td>3.95</td>\n",
       "      <td>3.98</td>\n",
       "      <td>2.43</td>\n",
       "    </tr>\n",
       "    <tr>\n",
       "      <th>1</th>\n",
       "      <td>0.21</td>\n",
       "      <td>Premium</td>\n",
       "      <td>E</td>\n",
       "      <td>SI1</td>\n",
       "      <td>59.8</td>\n",
       "      <td>61.0</td>\n",
       "      <td>326</td>\n",
       "      <td>3.89</td>\n",
       "      <td>3.84</td>\n",
       "      <td>2.31</td>\n",
       "    </tr>\n",
       "    <tr>\n",
       "      <th>2</th>\n",
       "      <td>0.23</td>\n",
       "      <td>Good</td>\n",
       "      <td>E</td>\n",
       "      <td>VS1</td>\n",
       "      <td>56.9</td>\n",
       "      <td>65.0</td>\n",
       "      <td>327</td>\n",
       "      <td>4.05</td>\n",
       "      <td>4.07</td>\n",
       "      <td>2.31</td>\n",
       "    </tr>\n",
       "    <tr>\n",
       "      <th>3</th>\n",
       "      <td>0.29</td>\n",
       "      <td>Premium</td>\n",
       "      <td>I</td>\n",
       "      <td>VS2</td>\n",
       "      <td>62.4</td>\n",
       "      <td>58.0</td>\n",
       "      <td>334</td>\n",
       "      <td>4.20</td>\n",
       "      <td>4.23</td>\n",
       "      <td>2.63</td>\n",
       "    </tr>\n",
       "    <tr>\n",
       "      <th>4</th>\n",
       "      <td>0.31</td>\n",
       "      <td>Good</td>\n",
       "      <td>J</td>\n",
       "      <td>SI2</td>\n",
       "      <td>63.3</td>\n",
       "      <td>58.0</td>\n",
       "      <td>335</td>\n",
       "      <td>4.34</td>\n",
       "      <td>4.35</td>\n",
       "      <td>2.75</td>\n",
       "    </tr>\n",
       "    <tr>\n",
       "      <th>...</th>\n",
       "      <td>...</td>\n",
       "      <td>...</td>\n",
       "      <td>...</td>\n",
       "      <td>...</td>\n",
       "      <td>...</td>\n",
       "      <td>...</td>\n",
       "      <td>...</td>\n",
       "      <td>...</td>\n",
       "      <td>...</td>\n",
       "      <td>...</td>\n",
       "    </tr>\n",
       "    <tr>\n",
       "      <th>53935</th>\n",
       "      <td>0.72</td>\n",
       "      <td>Ideal</td>\n",
       "      <td>D</td>\n",
       "      <td>SI1</td>\n",
       "      <td>60.8</td>\n",
       "      <td>57.0</td>\n",
       "      <td>2757</td>\n",
       "      <td>5.75</td>\n",
       "      <td>5.76</td>\n",
       "      <td>3.50</td>\n",
       "    </tr>\n",
       "    <tr>\n",
       "      <th>53936</th>\n",
       "      <td>0.72</td>\n",
       "      <td>Good</td>\n",
       "      <td>D</td>\n",
       "      <td>SI1</td>\n",
       "      <td>63.1</td>\n",
       "      <td>55.0</td>\n",
       "      <td>2757</td>\n",
       "      <td>5.69</td>\n",
       "      <td>5.75</td>\n",
       "      <td>3.61</td>\n",
       "    </tr>\n",
       "    <tr>\n",
       "      <th>53937</th>\n",
       "      <td>0.70</td>\n",
       "      <td>Very Good</td>\n",
       "      <td>D</td>\n",
       "      <td>SI1</td>\n",
       "      <td>62.8</td>\n",
       "      <td>60.0</td>\n",
       "      <td>2757</td>\n",
       "      <td>5.66</td>\n",
       "      <td>5.68</td>\n",
       "      <td>3.56</td>\n",
       "    </tr>\n",
       "    <tr>\n",
       "      <th>53938</th>\n",
       "      <td>0.86</td>\n",
       "      <td>Premium</td>\n",
       "      <td>H</td>\n",
       "      <td>SI2</td>\n",
       "      <td>61.0</td>\n",
       "      <td>58.0</td>\n",
       "      <td>2757</td>\n",
       "      <td>6.15</td>\n",
       "      <td>6.12</td>\n",
       "      <td>3.74</td>\n",
       "    </tr>\n",
       "    <tr>\n",
       "      <th>53939</th>\n",
       "      <td>0.75</td>\n",
       "      <td>Ideal</td>\n",
       "      <td>D</td>\n",
       "      <td>SI2</td>\n",
       "      <td>62.2</td>\n",
       "      <td>55.0</td>\n",
       "      <td>2757</td>\n",
       "      <td>5.83</td>\n",
       "      <td>5.87</td>\n",
       "      <td>3.64</td>\n",
       "    </tr>\n",
       "  </tbody>\n",
       "</table>\n",
       "<p>52051 rows × 10 columns</p>\n",
       "</div>"
      ],
      "text/plain": [
       "       carat        cut color clarity  depth  table  price     x     y     z\n",
       "0       0.23      Ideal     E     SI2   61.5   55.0    326  3.95  3.98  2.43\n",
       "1       0.21    Premium     E     SI1   59.8   61.0    326  3.89  3.84  2.31\n",
       "2       0.23       Good     E     VS1   56.9   65.0    327  4.05  4.07  2.31\n",
       "3       0.29    Premium     I     VS2   62.4   58.0    334  4.20  4.23  2.63\n",
       "4       0.31       Good     J     SI2   63.3   58.0    335  4.34  4.35  2.75\n",
       "...      ...        ...   ...     ...    ...    ...    ...   ...   ...   ...\n",
       "53935   0.72      Ideal     D     SI1   60.8   57.0   2757  5.75  5.76  3.50\n",
       "53936   0.72       Good     D     SI1   63.1   55.0   2757  5.69  5.75  3.61\n",
       "53937   0.70  Very Good     D     SI1   62.8   60.0   2757  5.66  5.68  3.56\n",
       "53938   0.86    Premium     H     SI2   61.0   58.0   2757  6.15  6.12  3.74\n",
       "53939   0.75      Ideal     D     SI2   62.2   55.0   2757  5.83  5.87  3.64\n",
       "\n",
       "[52051 rows x 10 columns]"
      ]
     },
     "execution_count": 39,
     "metadata": {},
     "output_type": "execute_result"
    }
   ],
   "source": [
    "# Let's create a DataFrame from the observations not defined as outliers named \"cleaned_df\"\n",
    "\n",
    "cleaned_df = df[not_outliers]\n",
    "cleaned_df"
   ]
  },
  {
   "cell_type": "code",
   "execution_count": 40,
   "id": "a235e327",
   "metadata": {},
   "outputs": [
    {
     "data": {
      "text/plain": [
       "Int64Index([12246, 13002, 13118, 13757, 13991, 13992, 14138, 14912, 14913,\n",
       "            15151,\n",
       "            ...\n",
       "            27734, 27736, 27737, 27738, 27739, 27741, 27742, 27744, 27746,\n",
       "            27749],\n",
       "           dtype='int64', length=1889)"
      ]
     },
     "execution_count": 40,
     "metadata": {},
     "output_type": "execute_result"
    }
   ],
   "source": [
    "# The Second Approach:\n",
    "\n",
    "# Let's find the index numbers of the observations defined as outliers \n",
    "\n",
    "\n",
    "df.loc[(df.carat < lower_lim) | (df.carat > upper_lim)].index"
   ]
  },
  {
   "cell_type": "code",
   "execution_count": 41,
   "id": "9f1a5500",
   "metadata": {},
   "outputs": [
    {
     "data": {
      "text/plain": [
       "Int64Index([12246, 13002, 13118, 13757, 13991, 13992, 14138, 14912, 14913,\n",
       "            15151,\n",
       "            ...\n",
       "            27734, 27736, 27737, 27738, 27739, 27741, 27742, 27744, 27746,\n",
       "            27749],\n",
       "           dtype='int64', length=1889)"
      ]
     },
     "execution_count": 41,
     "metadata": {},
     "output_type": "execute_result"
    }
   ],
   "source": [
    "# Let us assign the index numbers of the observations defined as outliers to \n",
    "# an object named \"outlier_index\"\n",
    "\n",
    "outlier_index = df.loc[(df.carat < lower_lim) | (df.carat > upper_lim) ].index\n",
    "outlier_index"
   ]
  },
  {
   "cell_type": "code",
   "execution_count": 42,
   "id": "746dd073",
   "metadata": {},
   "outputs": [
    {
     "data": {
      "text/html": [
       "<div>\n",
       "<style scoped>\n",
       "    .dataframe tbody tr th:only-of-type {\n",
       "        vertical-align: middle;\n",
       "    }\n",
       "\n",
       "    .dataframe tbody tr th {\n",
       "        vertical-align: top;\n",
       "    }\n",
       "\n",
       "    .dataframe thead th {\n",
       "        text-align: right;\n",
       "    }\n",
       "</style>\n",
       "<table border=\"1\" class=\"dataframe\">\n",
       "  <thead>\n",
       "    <tr style=\"text-align: right;\">\n",
       "      <th></th>\n",
       "      <th>carat</th>\n",
       "      <th>cut</th>\n",
       "      <th>color</th>\n",
       "      <th>clarity</th>\n",
       "      <th>depth</th>\n",
       "      <th>table</th>\n",
       "      <th>price</th>\n",
       "      <th>x</th>\n",
       "      <th>y</th>\n",
       "      <th>z</th>\n",
       "    </tr>\n",
       "  </thead>\n",
       "  <tbody>\n",
       "    <tr>\n",
       "      <th>0</th>\n",
       "      <td>0.23</td>\n",
       "      <td>Ideal</td>\n",
       "      <td>E</td>\n",
       "      <td>SI2</td>\n",
       "      <td>61.5</td>\n",
       "      <td>55.0</td>\n",
       "      <td>326</td>\n",
       "      <td>3.95</td>\n",
       "      <td>3.98</td>\n",
       "      <td>2.43</td>\n",
       "    </tr>\n",
       "    <tr>\n",
       "      <th>1</th>\n",
       "      <td>0.21</td>\n",
       "      <td>Premium</td>\n",
       "      <td>E</td>\n",
       "      <td>SI1</td>\n",
       "      <td>59.8</td>\n",
       "      <td>61.0</td>\n",
       "      <td>326</td>\n",
       "      <td>3.89</td>\n",
       "      <td>3.84</td>\n",
       "      <td>2.31</td>\n",
       "    </tr>\n",
       "    <tr>\n",
       "      <th>2</th>\n",
       "      <td>0.23</td>\n",
       "      <td>Good</td>\n",
       "      <td>E</td>\n",
       "      <td>VS1</td>\n",
       "      <td>56.9</td>\n",
       "      <td>65.0</td>\n",
       "      <td>327</td>\n",
       "      <td>4.05</td>\n",
       "      <td>4.07</td>\n",
       "      <td>2.31</td>\n",
       "    </tr>\n",
       "    <tr>\n",
       "      <th>3</th>\n",
       "      <td>0.29</td>\n",
       "      <td>Premium</td>\n",
       "      <td>I</td>\n",
       "      <td>VS2</td>\n",
       "      <td>62.4</td>\n",
       "      <td>58.0</td>\n",
       "      <td>334</td>\n",
       "      <td>4.20</td>\n",
       "      <td>4.23</td>\n",
       "      <td>2.63</td>\n",
       "    </tr>\n",
       "    <tr>\n",
       "      <th>4</th>\n",
       "      <td>0.31</td>\n",
       "      <td>Good</td>\n",
       "      <td>J</td>\n",
       "      <td>SI2</td>\n",
       "      <td>63.3</td>\n",
       "      <td>58.0</td>\n",
       "      <td>335</td>\n",
       "      <td>4.34</td>\n",
       "      <td>4.35</td>\n",
       "      <td>2.75</td>\n",
       "    </tr>\n",
       "    <tr>\n",
       "      <th>...</th>\n",
       "      <td>...</td>\n",
       "      <td>...</td>\n",
       "      <td>...</td>\n",
       "      <td>...</td>\n",
       "      <td>...</td>\n",
       "      <td>...</td>\n",
       "      <td>...</td>\n",
       "      <td>...</td>\n",
       "      <td>...</td>\n",
       "      <td>...</td>\n",
       "    </tr>\n",
       "    <tr>\n",
       "      <th>53935</th>\n",
       "      <td>0.72</td>\n",
       "      <td>Ideal</td>\n",
       "      <td>D</td>\n",
       "      <td>SI1</td>\n",
       "      <td>60.8</td>\n",
       "      <td>57.0</td>\n",
       "      <td>2757</td>\n",
       "      <td>5.75</td>\n",
       "      <td>5.76</td>\n",
       "      <td>3.50</td>\n",
       "    </tr>\n",
       "    <tr>\n",
       "      <th>53936</th>\n",
       "      <td>0.72</td>\n",
       "      <td>Good</td>\n",
       "      <td>D</td>\n",
       "      <td>SI1</td>\n",
       "      <td>63.1</td>\n",
       "      <td>55.0</td>\n",
       "      <td>2757</td>\n",
       "      <td>5.69</td>\n",
       "      <td>5.75</td>\n",
       "      <td>3.61</td>\n",
       "    </tr>\n",
       "    <tr>\n",
       "      <th>53937</th>\n",
       "      <td>0.70</td>\n",
       "      <td>Very Good</td>\n",
       "      <td>D</td>\n",
       "      <td>SI1</td>\n",
       "      <td>62.8</td>\n",
       "      <td>60.0</td>\n",
       "      <td>2757</td>\n",
       "      <td>5.66</td>\n",
       "      <td>5.68</td>\n",
       "      <td>3.56</td>\n",
       "    </tr>\n",
       "    <tr>\n",
       "      <th>53938</th>\n",
       "      <td>0.86</td>\n",
       "      <td>Premium</td>\n",
       "      <td>H</td>\n",
       "      <td>SI2</td>\n",
       "      <td>61.0</td>\n",
       "      <td>58.0</td>\n",
       "      <td>2757</td>\n",
       "      <td>6.15</td>\n",
       "      <td>6.12</td>\n",
       "      <td>3.74</td>\n",
       "    </tr>\n",
       "    <tr>\n",
       "      <th>53939</th>\n",
       "      <td>0.75</td>\n",
       "      <td>Ideal</td>\n",
       "      <td>D</td>\n",
       "      <td>SI2</td>\n",
       "      <td>62.2</td>\n",
       "      <td>55.0</td>\n",
       "      <td>2757</td>\n",
       "      <td>5.83</td>\n",
       "      <td>5.87</td>\n",
       "      <td>3.64</td>\n",
       "    </tr>\n",
       "  </tbody>\n",
       "</table>\n",
       "<p>52051 rows × 10 columns</p>\n",
       "</div>"
      ],
      "text/plain": [
       "       carat        cut color clarity  depth  table  price     x     y     z\n",
       "0       0.23      Ideal     E     SI2   61.5   55.0    326  3.95  3.98  2.43\n",
       "1       0.21    Premium     E     SI1   59.8   61.0    326  3.89  3.84  2.31\n",
       "2       0.23       Good     E     VS1   56.9   65.0    327  4.05  4.07  2.31\n",
       "3       0.29    Premium     I     VS2   62.4   58.0    334  4.20  4.23  2.63\n",
       "4       0.31       Good     J     SI2   63.3   58.0    335  4.34  4.35  2.75\n",
       "...      ...        ...   ...     ...    ...    ...    ...   ...   ...   ...\n",
       "53935   0.72      Ideal     D     SI1   60.8   57.0   2757  5.75  5.76  3.50\n",
       "53936   0.72       Good     D     SI1   63.1   55.0   2757  5.69  5.75  3.61\n",
       "53937   0.70  Very Good     D     SI1   62.8   60.0   2757  5.66  5.68  3.56\n",
       "53938   0.86    Premium     H     SI2   61.0   58.0   2757  6.15  6.12  3.74\n",
       "53939   0.75      Ideal     D     SI2   62.2   55.0   2757  5.83  5.87  3.64\n",
       "\n",
       "[52051 rows x 10 columns]"
      ]
     },
     "execution_count": 42,
     "metadata": {},
     "output_type": "execute_result"
    }
   ],
   "source": [
    "# It's time to drop the index numbers of the observations defined as outliers from the \n",
    "# original DataFrame. \n",
    "# As such, the remaining observations not defined as outliers in the original df will \n",
    "# create a new DatFrame\n",
    "\n",
    "df.drop(outlier_index)"
   ]
  },
  {
   "cell_type": "code",
   "execution_count": 43,
   "id": "ebc00b1a",
   "metadata": {},
   "outputs": [
    {
     "data": {
      "text/html": [
       "<div>\n",
       "<style scoped>\n",
       "    .dataframe tbody tr th:only-of-type {\n",
       "        vertical-align: middle;\n",
       "    }\n",
       "\n",
       "    .dataframe tbody tr th {\n",
       "        vertical-align: top;\n",
       "    }\n",
       "\n",
       "    .dataframe thead th {\n",
       "        text-align: right;\n",
       "    }\n",
       "</style>\n",
       "<table border=\"1\" class=\"dataframe\">\n",
       "  <thead>\n",
       "    <tr style=\"text-align: right;\">\n",
       "      <th></th>\n",
       "      <th>carat</th>\n",
       "      <th>cut</th>\n",
       "      <th>color</th>\n",
       "      <th>clarity</th>\n",
       "      <th>depth</th>\n",
       "      <th>table</th>\n",
       "      <th>price</th>\n",
       "      <th>x</th>\n",
       "      <th>y</th>\n",
       "      <th>z</th>\n",
       "    </tr>\n",
       "  </thead>\n",
       "  <tbody>\n",
       "    <tr>\n",
       "      <th>0</th>\n",
       "      <td>0.23</td>\n",
       "      <td>Ideal</td>\n",
       "      <td>E</td>\n",
       "      <td>SI2</td>\n",
       "      <td>61.5</td>\n",
       "      <td>55.0</td>\n",
       "      <td>326</td>\n",
       "      <td>3.95</td>\n",
       "      <td>3.98</td>\n",
       "      <td>2.43</td>\n",
       "    </tr>\n",
       "    <tr>\n",
       "      <th>1</th>\n",
       "      <td>0.21</td>\n",
       "      <td>Premium</td>\n",
       "      <td>E</td>\n",
       "      <td>SI1</td>\n",
       "      <td>59.8</td>\n",
       "      <td>61.0</td>\n",
       "      <td>326</td>\n",
       "      <td>3.89</td>\n",
       "      <td>3.84</td>\n",
       "      <td>2.31</td>\n",
       "    </tr>\n",
       "    <tr>\n",
       "      <th>2</th>\n",
       "      <td>0.23</td>\n",
       "      <td>Good</td>\n",
       "      <td>E</td>\n",
       "      <td>VS1</td>\n",
       "      <td>56.9</td>\n",
       "      <td>65.0</td>\n",
       "      <td>327</td>\n",
       "      <td>4.05</td>\n",
       "      <td>4.07</td>\n",
       "      <td>2.31</td>\n",
       "    </tr>\n",
       "    <tr>\n",
       "      <th>3</th>\n",
       "      <td>0.29</td>\n",
       "      <td>Premium</td>\n",
       "      <td>I</td>\n",
       "      <td>VS2</td>\n",
       "      <td>62.4</td>\n",
       "      <td>58.0</td>\n",
       "      <td>334</td>\n",
       "      <td>4.20</td>\n",
       "      <td>4.23</td>\n",
       "      <td>2.63</td>\n",
       "    </tr>\n",
       "    <tr>\n",
       "      <th>4</th>\n",
       "      <td>0.31</td>\n",
       "      <td>Good</td>\n",
       "      <td>J</td>\n",
       "      <td>SI2</td>\n",
       "      <td>63.3</td>\n",
       "      <td>58.0</td>\n",
       "      <td>335</td>\n",
       "      <td>4.34</td>\n",
       "      <td>4.35</td>\n",
       "      <td>2.75</td>\n",
       "    </tr>\n",
       "    <tr>\n",
       "      <th>...</th>\n",
       "      <td>...</td>\n",
       "      <td>...</td>\n",
       "      <td>...</td>\n",
       "      <td>...</td>\n",
       "      <td>...</td>\n",
       "      <td>...</td>\n",
       "      <td>...</td>\n",
       "      <td>...</td>\n",
       "      <td>...</td>\n",
       "      <td>...</td>\n",
       "    </tr>\n",
       "    <tr>\n",
       "      <th>53935</th>\n",
       "      <td>0.72</td>\n",
       "      <td>Ideal</td>\n",
       "      <td>D</td>\n",
       "      <td>SI1</td>\n",
       "      <td>60.8</td>\n",
       "      <td>57.0</td>\n",
       "      <td>2757</td>\n",
       "      <td>5.75</td>\n",
       "      <td>5.76</td>\n",
       "      <td>3.50</td>\n",
       "    </tr>\n",
       "    <tr>\n",
       "      <th>53936</th>\n",
       "      <td>0.72</td>\n",
       "      <td>Good</td>\n",
       "      <td>D</td>\n",
       "      <td>SI1</td>\n",
       "      <td>63.1</td>\n",
       "      <td>55.0</td>\n",
       "      <td>2757</td>\n",
       "      <td>5.69</td>\n",
       "      <td>5.75</td>\n",
       "      <td>3.61</td>\n",
       "    </tr>\n",
       "    <tr>\n",
       "      <th>53937</th>\n",
       "      <td>0.70</td>\n",
       "      <td>Very Good</td>\n",
       "      <td>D</td>\n",
       "      <td>SI1</td>\n",
       "      <td>62.8</td>\n",
       "      <td>60.0</td>\n",
       "      <td>2757</td>\n",
       "      <td>5.66</td>\n",
       "      <td>5.68</td>\n",
       "      <td>3.56</td>\n",
       "    </tr>\n",
       "    <tr>\n",
       "      <th>53938</th>\n",
       "      <td>0.86</td>\n",
       "      <td>Premium</td>\n",
       "      <td>H</td>\n",
       "      <td>SI2</td>\n",
       "      <td>61.0</td>\n",
       "      <td>58.0</td>\n",
       "      <td>2757</td>\n",
       "      <td>6.15</td>\n",
       "      <td>6.12</td>\n",
       "      <td>3.74</td>\n",
       "    </tr>\n",
       "    <tr>\n",
       "      <th>53939</th>\n",
       "      <td>0.75</td>\n",
       "      <td>Ideal</td>\n",
       "      <td>D</td>\n",
       "      <td>SI2</td>\n",
       "      <td>62.2</td>\n",
       "      <td>55.0</td>\n",
       "      <td>2757</td>\n",
       "      <td>5.83</td>\n",
       "      <td>5.87</td>\n",
       "      <td>3.64</td>\n",
       "    </tr>\n",
       "  </tbody>\n",
       "</table>\n",
       "<p>53940 rows × 10 columns</p>\n",
       "</div>"
      ],
      "text/plain": [
       "       carat        cut color clarity  depth  table  price     x     y     z\n",
       "0       0.23      Ideal     E     SI2   61.5   55.0    326  3.95  3.98  2.43\n",
       "1       0.21    Premium     E     SI1   59.8   61.0    326  3.89  3.84  2.31\n",
       "2       0.23       Good     E     VS1   56.9   65.0    327  4.05  4.07  2.31\n",
       "3       0.29    Premium     I     VS2   62.4   58.0    334  4.20  4.23  2.63\n",
       "4       0.31       Good     J     SI2   63.3   58.0    335  4.34  4.35  2.75\n",
       "...      ...        ...   ...     ...    ...    ...    ...   ...   ...   ...\n",
       "53935   0.72      Ideal     D     SI1   60.8   57.0   2757  5.75  5.76  3.50\n",
       "53936   0.72       Good     D     SI1   63.1   55.0   2757  5.69  5.75  3.61\n",
       "53937   0.70  Very Good     D     SI1   62.8   60.0   2757  5.66  5.68  3.56\n",
       "53938   0.86    Premium     H     SI2   61.0   58.0   2757  6.15  6.12  3.74\n",
       "53939   0.75      Ideal     D     SI2   62.2   55.0   2757  5.83  5.87  3.64\n",
       "\n",
       "[53940 rows x 10 columns]"
      ]
     },
     "execution_count": 43,
     "metadata": {},
     "output_type": "execute_result"
    }
   ],
   "source": [
    "df"
   ]
  },
  {
   "cell_type": "code",
   "execution_count": 44,
   "id": "912c6ffd",
   "metadata": {},
   "outputs": [
    {
     "data": {
      "text/html": [
       "<div>\n",
       "<style scoped>\n",
       "    .dataframe tbody tr th:only-of-type {\n",
       "        vertical-align: middle;\n",
       "    }\n",
       "\n",
       "    .dataframe tbody tr th {\n",
       "        vertical-align: top;\n",
       "    }\n",
       "\n",
       "    .dataframe thead th {\n",
       "        text-align: right;\n",
       "    }\n",
       "</style>\n",
       "<table border=\"1\" class=\"dataframe\">\n",
       "  <thead>\n",
       "    <tr style=\"text-align: right;\">\n",
       "      <th></th>\n",
       "      <th>carat</th>\n",
       "      <th>depth</th>\n",
       "      <th>table</th>\n",
       "      <th>price</th>\n",
       "      <th>x</th>\n",
       "      <th>y</th>\n",
       "      <th>z</th>\n",
       "    </tr>\n",
       "  </thead>\n",
       "  <tbody>\n",
       "    <tr>\n",
       "      <th>count</th>\n",
       "      <td>52051.000000</td>\n",
       "      <td>52051.000000</td>\n",
       "      <td>52051.000000</td>\n",
       "      <td>52051.000000</td>\n",
       "      <td>52051.000000</td>\n",
       "      <td>52051.000000</td>\n",
       "      <td>52051.000000</td>\n",
       "    </tr>\n",
       "    <tr>\n",
       "      <th>mean</th>\n",
       "      <td>0.748738</td>\n",
       "      <td>61.748679</td>\n",
       "      <td>57.426274</td>\n",
       "      <td>3532.925496</td>\n",
       "      <td>5.639300</td>\n",
       "      <td>5.643634</td>\n",
       "      <td>3.482717</td>\n",
       "    </tr>\n",
       "    <tr>\n",
       "      <th>std</th>\n",
       "      <td>0.402096</td>\n",
       "      <td>1.418252</td>\n",
       "      <td>2.223445</td>\n",
       "      <td>3414.985354</td>\n",
       "      <td>1.028895</td>\n",
       "      <td>1.054333</td>\n",
       "      <td>0.649709</td>\n",
       "    </tr>\n",
       "    <tr>\n",
       "      <th>min</th>\n",
       "      <td>0.200000</td>\n",
       "      <td>43.000000</td>\n",
       "      <td>43.000000</td>\n",
       "      <td>326.000000</td>\n",
       "      <td>0.000000</td>\n",
       "      <td>0.000000</td>\n",
       "      <td>0.000000</td>\n",
       "    </tr>\n",
       "    <tr>\n",
       "      <th>25%</th>\n",
       "      <td>0.390000</td>\n",
       "      <td>61.100000</td>\n",
       "      <td>56.000000</td>\n",
       "      <td>928.000000</td>\n",
       "      <td>4.690000</td>\n",
       "      <td>4.700000</td>\n",
       "      <td>2.890000</td>\n",
       "    </tr>\n",
       "    <tr>\n",
       "      <th>50%</th>\n",
       "      <td>0.700000</td>\n",
       "      <td>61.800000</td>\n",
       "      <td>57.000000</td>\n",
       "      <td>2289.000000</td>\n",
       "      <td>5.650000</td>\n",
       "      <td>5.660000</td>\n",
       "      <td>3.490000</td>\n",
       "    </tr>\n",
       "    <tr>\n",
       "      <th>75%</th>\n",
       "      <td>1.020000</td>\n",
       "      <td>62.500000</td>\n",
       "      <td>59.000000</td>\n",
       "      <td>4958.000000</td>\n",
       "      <td>6.480000</td>\n",
       "      <td>6.470000</td>\n",
       "      <td>4.010000</td>\n",
       "    </tr>\n",
       "    <tr>\n",
       "      <th>max</th>\n",
       "      <td>2.000000</td>\n",
       "      <td>79.000000</td>\n",
       "      <td>79.000000</td>\n",
       "      <td>18818.000000</td>\n",
       "      <td>8.420000</td>\n",
       "      <td>58.900000</td>\n",
       "      <td>31.800000</td>\n",
       "    </tr>\n",
       "  </tbody>\n",
       "</table>\n",
       "</div>"
      ],
      "text/plain": [
       "              carat         depth         table         price             x  \\\n",
       "count  52051.000000  52051.000000  52051.000000  52051.000000  52051.000000   \n",
       "mean       0.748738     61.748679     57.426274   3532.925496      5.639300   \n",
       "std        0.402096      1.418252      2.223445   3414.985354      1.028895   \n",
       "min        0.200000     43.000000     43.000000    326.000000      0.000000   \n",
       "25%        0.390000     61.100000     56.000000    928.000000      4.690000   \n",
       "50%        0.700000     61.800000     57.000000   2289.000000      5.650000   \n",
       "75%        1.020000     62.500000     59.000000   4958.000000      6.480000   \n",
       "max        2.000000     79.000000     79.000000  18818.000000      8.420000   \n",
       "\n",
       "                  y             z  \n",
       "count  52051.000000  52051.000000  \n",
       "mean       5.643634      3.482717  \n",
       "std        1.054333      0.649709  \n",
       "min        0.000000      0.000000  \n",
       "25%        4.700000      2.890000  \n",
       "50%        5.660000      3.490000  \n",
       "75%        6.470000      4.010000  \n",
       "max       58.900000     31.800000  "
      ]
     },
     "execution_count": 44,
     "metadata": {},
     "output_type": "execute_result"
    }
   ],
   "source": [
    "cleaned_df.describe()"
   ]
  },
  {
   "cell_type": "code",
   "execution_count": 45,
   "id": "230dadb2",
   "metadata": {},
   "outputs": [
    {
     "data": {
      "text/plain": [
       "<AxesSubplot:>"
      ]
     },
     "execution_count": 45,
     "metadata": {},
     "output_type": "execute_result"
    },
    {
     "data": {
      "image/png": "[encoded data removed]",
      "text/plain": [
       "<Figure size 600x400 with 2 Axes>"
      ]
     },
     "metadata": {},
     "output_type": "display_data"
    }
   ],
   "source": [
    "sns.heatmap(cleaned_df.corr(), annot = True)"
   ]
  },
  {
   "cell_type": "code",
   "execution_count": 46,
   "id": "6e564d29",
   "metadata": {},
   "outputs": [
    {
     "ename": "NameError",
     "evalue": "name 'original_df' is not defined",
     "output_type": "error",
     "traceback": [
      "\u001b[1;31m---------------------------------------------------------------------------\u001b[0m",
      "\u001b[1;31mNameError\u001b[0m                                 Traceback (most recent call last)",
      "\u001b[1;32m~\\AppData\\Local\\Temp\\ipykernel_8888\\1736259421.py\u001b[0m in \u001b[0;36m<module>\u001b[1;34m\u001b[0m\n\u001b[1;32m----> 1\u001b[1;33m \u001b[0msns\u001b[0m\u001b[1;33m.\u001b[0m\u001b[0mheatmap\u001b[0m\u001b[1;33m(\u001b[0m\u001b[0moriginal_df\u001b[0m\u001b[1;33m.\u001b[0m\u001b[0mcorr\u001b[0m\u001b[1;33m(\u001b[0m\u001b[1;33m)\u001b[0m\u001b[1;33m,\u001b[0m \u001b[0mannot\u001b[0m \u001b[1;33m=\u001b[0m \u001b[1;32mTrue\u001b[0m\u001b[1;33m)\u001b[0m\u001b[1;33m\u001b[0m\u001b[1;33m\u001b[0m\u001b[0m\n\u001b[0m",
      "\u001b[1;31mNameError\u001b[0m: name 'original_df' is not defined"
     ]
    }
   ],
   "source": [
    "sns.heatmap(original_df.corr(), annot = True)"
   ]
  },
  {
   "cell_type": "code",
   "execution_count": null,
   "id": "d62a79c6",
   "metadata": {},
   "outputs": [],
   "source": [
    "original_df = df.copy()"
   ]
  },
  {
   "cell_type": "code",
   "execution_count": null,
   "id": "4930b521",
   "metadata": {},
   "outputs": [],
   "source": [
    "fig, ax = plt.subplots(1, 2, figsize = (14, 6))\n",
    "\n",
    "g = sns.boxplot(x = \"carat\",\n",
    "                data = original_df,\n",
    "                color = \"red\",\n",
    "                ax = ax[0])\n",
    "\n",
    "h = sns.boxplot(x = \"carat\",\n",
    "                data = cleaned_df,\n",
    "                color = \"skyblue\",\n",
    "                ax = ax[1])\n",
    "\n",
    "ax[0].set(xlabel = \" 'carat' Future from Original DataFrame\")\n",
    "ax[1].set(xlabel = \" 'carat' Future from Cleaned DataFrame\")\n",
    "\n",
    "g.set_title(\"Distribution WITH Outlier\")\n",
    "h.set_title(\"Distribution WITHOUT Outlier\");"
   ]
  },
  {
   "cell_type": "code",
   "execution_count": null,
   "id": "9289e69e",
   "metadata": {},
   "outputs": [],
   "source": [
    "fig, ax = plt.subplots(1, 2, figsize = (14, 6))\n",
    "\n",
    "g = sns.histplot(original_df.carat, \n",
    "                 bins = 10, \n",
    "                 kde = False, \n",
    "                 color = \"red\", \n",
    "                 label = \"With Outliers\", \n",
    "                 ax = ax[0])\n",
    "\n",
    "h = sns.histplot(cleaned_df.carat,\n",
    "                 bins = 10,\n",
    "                 kde = False,\n",
    "                 color = \"skyblue\",\n",
    "                 label = \"Without Outliers\",\n",
    "                 ax = ax[1])\n",
    "\n",
    "ax[0].set(xlabel = \" 'carat' Future from Original DataFrame\")\n",
    "ax[1].set(xlabel = \" 'carat' Future from Cleaned DataFrame\")\n",
    "\n",
    "g.set_title(\"Distribution WITH Outlier\")\n",
    "h.set_title(\"Distribution WITHOUT Outlier\");"
   ]
  },
  {
   "cell_type": "code",
   "execution_count": null,
   "id": "3f9c321e",
   "metadata": {},
   "outputs": [],
   "source": [
    "cleaned_df.carat.describe()"
   ]
  },
  {
   "cell_type": "code",
   "execution_count": null,
   "id": "7ad71848",
   "metadata": {},
   "outputs": [],
   "source": [
    "original_df.carat.describe()"
   ]
  },
  {
   "cell_type": "code",
   "execution_count": null,
   "id": "907a4054",
   "metadata": {},
   "outputs": [],
   "source": [
    "# Let us compare the descriptive statistics summary of  both DataFrames:\n",
    "\n",
    "# The First Approach to Create DataFrame:\n",
    "\n",
    "compare = pd.DataFrame(original_df.carat.describe().values, \n",
    "                       index = original_df.table.describe().index,\n",
    "                      columns = [\"Original DataFrame\"])\n",
    "\n",
    "compare[\"Cleaned DataFrame\"] = cleaned_df.carat.describe().values\n",
    "\n",
    "compare"
   ]
  },
  {
   "cell_type": "code",
   "execution_count": null,
   "id": "08c82ba1",
   "metadata": {},
   "outputs": [],
   "source": [
    "# The Second Approach to Create DataFrame:\n",
    "\n",
    "pd.DataFrame([df.carat.describe(), cleaned_df.carat.describe()], index = [\"original\", \"drop\"]).T"
   ]
  },
  {
   "cell_type": "markdown",
   "id": "994ca815",
   "metadata": {},
   "source": [
    "## Limitation & Transformation of the Outliers"
   ]
  },
  {
   "cell_type": "markdown",
   "id": "98097d16",
   "metadata": {},
   "source": [
    "### Limitation using .winsorize() method"
   ]
  },
  {
   "cell_type": "markdown",
   "id": "a9bf49d5",
   "metadata": {},
   "source": [
    "With winsorizing, any value of a variable above or below a percentile k on each side of the variables’ distribution is replaced with the value of the k-th percentile itself. For example, if k=5, all observations above the 95th percentile are recoded to the value of the 95th percentile, and values below the 5th percent are recoded, respectively Source 01 & Source 02.\n",
    "\n",
    "Cautions on Winsorizing Data\n",
    "\n",
    "Here are a few things to keep in mind when deciding to winsorize data:\n",
    "\n",
    "If there aren’t extreme outliers, then winsorizing the data will only modify the smallest and largest values slightly. This is generally not a good idea since it means we’re just modifying data values for the sake of modifications.\n",
    "Outliers can represent interesting edge cases in the data. Thus, before modifying outliers it’s a good idea to take a closer look at them to see what could have caused them.\n",
    "You should decide whether or not to winsorize data after collecting the data, not before. You should see if there actually are extreme outliers before you decide to perform winsorization. If no extreme outliers are present, winsorization may be unnecessary."
   ]
  },
  {
   "cell_type": "markdown",
   "id": "1b437581",
   "metadata": {},
   "source": [
    "Winsorization is the process of replacing the extreme values of statistical data in order to limit the effect of the outliers on the calculations or the results obtained by using that data. The mean value calculated after such replacement of the extreme values is called winsorized mean.\n",
    "\n",
    "For example, 90% winsorization means the replacement of the top 5% and bottom 5% of the data. The top 5% of the data is replaced by the value of the data at the 95th percentile and the value of the bottom 5% of the data is replaced by the value of the data at the 5th percentile."
   ]
  },
  {
   "cell_type": "code",
   "execution_count": null,
   "id": "2b45c4c3",
   "metadata": {},
   "outputs": [],
   "source": [
    "# We first need to import winsorize function from mstats package of stats module \n",
    "# of scipy which is a scientific computation library\n",
    "\n",
    "from scipy.stats.mstats import winsorize"
   ]
  },
  {
   "cell_type": "code",
   "execution_count": null,
   "id": "466827e5",
   "metadata": {},
   "outputs": [],
   "source": [
    "# let's first remember our DataFrame containing the extreme values\n",
    "\n",
    "df"
   ]
  },
  {
   "cell_type": "code",
   "execution_count": null,
   "id": "e1b491d7",
   "metadata": {},
   "outputs": [],
   "source": [
    "# As we did above we will focus on \"carat\" feature again:\n",
    "\n",
    "pd.DataFrame(df.carat.value_counts().sort_index())"
   ]
  },
  {
   "cell_type": "markdown",
   "id": "1e6126bc",
   "metadata": {},
   "source": [
    "###### Let us first define and use hypothetical proportions for the lowest and highest values for getting to know how winsorize() method works:"
   ]
  },
  {
   "cell_type": "code",
   "execution_count": null,
   "id": "81a65f81",
   "metadata": {},
   "outputs": [],
   "source": [
    "winsorized_carat = winsorize(df.carat, limits=[0.01, 0.05])\n",
    "\n",
    "winsorized_carat = pd.DataFrame(winsorized_carat, columns = [\"winsorized_carat\"])\n",
    "winsorized_carat = pd.DataFrame(winsorized_carat.winsorized_carat.value_counts().sort_index())\n",
    "display(winsorized_carat)\n",
    "pd.DataFrame(df.carat.value_counts().sort_index())"
   ]
  },
  {
   "cell_type": "markdown",
   "id": "0b64978a",
   "metadata": {},
   "source": [
    "### Let us make a more professional approach for calculating the lowest and highest limits:"
   ]
  },
  {
   "cell_type": "code",
   "execution_count": null,
   "id": "a5c585bb",
   "metadata": {},
   "outputs": [],
   "source": [
    "display(lower_lim, len(df.carat [df.carat < lower_lim]), len(df))\n",
    "\n",
    "# Let's find the proportion of values less than lower limit\n",
    "\n",
    "a = len(df.carat[df.carat < lower_lim]) / len(df)\n",
    "a"
   ]
  },
  {
   "cell_type": "code",
   "execution_count": null,
   "id": "b7b53f27",
   "metadata": {},
   "outputs": [],
   "source": [
    "display(upper_lim, len(df.carat [df.carat < upper_lim]), len(df))\n",
    "\n",
    "# Let's find the proportion of values less than lower limit\n",
    "\n",
    "b = len(df.carat[df.carat < upper_lim]) / len(df)\n",
    "b"
   ]
  },
  {
   "cell_type": "code",
   "execution_count": null,
   "id": "15e25e0a",
   "metadata": {},
   "outputs": [],
   "source": [
    "# Now if I write the proportions, assigned to a and b, that I found in this winsorize, I can do a more logical job\n",
    "\n",
    "carat_win = winsorize(df.carat, (a, b))\n",
    "winsorized_carat = pd.DataFrame(carat_win, columns = [\"winsorized_carat\"])\n",
    "winsorized_carat"
   ]
  },
  {
   "cell_type": "code",
   "execution_count": null,
   "id": "f6cace0a",
   "metadata": {},
   "outputs": [],
   "source": [
    "fig, ax = plt.subplots(1, 2, figsize=(16, 5))\n",
    "\n",
    "g = sns.boxplot(data=original_df, x=\"carat\", color=\"red\", ax=ax[0]);\n",
    "h = sns.boxplot(data=winsorized_carat, x=\"winsorized_carat\", color=\"skyblue\", ax=ax[1])\n",
    "\n",
    "ax[0].set(xlabel=\"'carat' Feature NOT Winsorized\")\n",
    "ax[1].set(xlabel=\"'carat' Feature Winsorized\")\n",
    "\n",
    "g.set_title('Distribution WITH Outliers')\n",
    "h.set_title('Distribution WITHOUT Outliers');\n",
    "\n",
    "# Having applied winsorized() method for handling outliers, no outliers left on the Boxplotchart as seen."
   ]
  },
  {
   "cell_type": "code",
   "execution_count": null,
   "id": "6efcc478",
   "metadata": {},
   "outputs": [],
   "source": [
    "fig, ax = plt.subplots(1, 2, figsize=(16, 5))\n",
    "\n",
    "g = sns.histplot(original_df.carat, bins=10, kde=False, color=\"red\", label=\"With Outliers\", ax=ax[0])\n",
    "h = sns.histplot(winsorized_carat.winsorized_carat, bins=10, kde=False, color=\"skyblue\", label=\"Without Outliers\", ax=ax[1])\n",
    "\n",
    "ax[0].set(xlabel=\"'carat' Feature NOT Winsorized\")\n",
    "ax[1].set(xlabel=\"'carat' Feature  Winsorized\")\n",
    "\n",
    "g.set(title=\"Distribution WITH Outliers\")\n",
    "h.set(title=\"Distribution WITHOUT Outliers\");"
   ]
  },
  {
   "cell_type": "code",
   "execution_count": null,
   "id": "1d521104",
   "metadata": {},
   "outputs": [],
   "source": []
  },
  {
   "cell_type": "code",
   "execution_count": null,
   "id": "a975d467",
   "metadata": {},
   "outputs": [],
   "source": [
    "carat_win"
   ]
  },
  {
   "cell_type": "code",
   "execution_count": null,
   "id": "83a48966",
   "metadata": {},
   "outputs": [],
   "source": [
    "# Let us create a Series named \"carat_win_ser\"  from \"carat_win\" object\n",
    "\n",
    "carat_win_ser = pd.Series(carat_win)\n",
    "carat_win_ser"
   ]
  },
  {
   "cell_type": "code",
   "execution_count": null,
   "id": "6f3e0869",
   "metadata": {},
   "outputs": [],
   "source": [
    "pd.DataFrame([df.carat.describe(),\n",
    "              cleaned_df.carat.describe(), \n",
    "              carat_win_ser.describe()], \n",
    "              index=['original', 'drop', 'winsorize']).T"
   ]
  },
  {
   "cell_type": "code",
   "execution_count": null,
   "id": "c85ad96c",
   "metadata": {},
   "outputs": [],
   "source": [
    "winsorized_carat.max()"
   ]
  },
  {
   "cell_type": "code",
   "execution_count": null,
   "id": "644d5755",
   "metadata": {},
   "outputs": [],
   "source": [
    "original = df.carat.sort_values().head(20).reset_index(drop=True)\n",
    "winsorized = carat_win_ser.sort_values().head(20).reset_index(drop=True)\n",
    "\n",
    "pd.DataFrame([original, winsorized]).T.rename(columns={\"carat\": \"Original\", \"Unnamed 0\": \"Winzorized\"})"
   ]
  },
  {
   "cell_type": "markdown",
   "id": "caf5a4be",
   "metadata": {},
   "source": [
    "## Let's check how many outliers were winsorized\n",
    "\n"
   ]
  },
  {
   "cell_type": "code",
   "execution_count": null,
   "id": "c5f7bea1",
   "metadata": {},
   "outputs": [],
   "source": [
    "display(df.carat[df.carat < 0.4].count())\n",
    "display(df.carat[df.carat == 0.4].count())\n",
    "\n",
    "carat_win_ser[carat_win_ser == 0.4].count()"
   ]
  },
  {
   "cell_type": "code",
   "execution_count": null,
   "id": "9efd8021",
   "metadata": {},
   "outputs": [],
   "source": [
    "Q3"
   ]
  },
  {
   "cell_type": "code",
   "execution_count": null,
   "id": "90a81cfb",
   "metadata": {},
   "outputs": [],
   "source": [
    "display(df.carat[df.carat >1.04].count())\n",
    "display(df.carat[df.carat == 1.04].count())\n",
    "\n",
    "carat_win_ser[carat_win_ser == 1.04].count()"
   ]
  },
  {
   "cell_type": "markdown",
   "id": "248537ba",
   "metadata": {},
   "source": [
    "# Transformation using log() method\n",
    "\n",
    "* The Numpy.log() method lets you calculate the mathematical log of any number or array. The numpy.log() is a mathematical function that helps user to calculate Natural logarithm of x where x belongs to all the input array elements.\n",
    "\n",
    "* The natural logarithm log is the inverse of the exponential function, so that log(exp(x)) = x."
   ]
  },
  {
   "cell_type": "code",
   "execution_count": null,
   "id": "ad55c555",
   "metadata": {},
   "outputs": [],
   "source": [
    "\n",
    "# Let's remember our DataFrame:\n",
    "\n",
    "df"
   ]
  },
  {
   "cell_type": "markdown",
   "id": "e90e1c8b",
   "metadata": {},
   "source": [
    "#### This time \"carat\" featured will be handled regarding outliers."
   ]
  },
  {
   "cell_type": "code",
   "execution_count": null,
   "id": "2394b5a3",
   "metadata": {},
   "outputs": [],
   "source": [
    "# It seems the \"carat\" feature has too many extreme values (outliers)\n",
    "\n",
    "plt.figure(figsize=(10, 6))\n",
    "sns.boxplot(x = df.carat)"
   ]
  },
  {
   "cell_type": "code",
   "execution_count": null,
   "id": "38705390",
   "metadata": {},
   "outputs": [],
   "source": [
    "# Right skewed distribution occurs for \"carat\" feature since the long tail is on the right side of the distribution.\n",
    "\n",
    "sns.histplot(df.carat, bins = 10, kde = False)"
   ]
  },
  {
   "cell_type": "code",
   "execution_count": null,
   "id": "6a014e84",
   "metadata": {},
   "outputs": [],
   "source": [
    "# Let us examine what happens when np.log() method is applied \n",
    "\n",
    "np.log(df.carat)"
   ]
  },
  {
   "cell_type": "code",
   "execution_count": null,
   "id": "fddc9696",
   "metadata": {},
   "outputs": [],
   "source": [
    "# We got the algorithm of all values in the \"carat\" column and examined the distribution of the observations with boxplot\n",
    "\n",
    "plt.figure(figsize = (10, 6))\n",
    "sns.boxplot(x = np.log(df.carat));"
   ]
  },
  {
   "cell_type": "code",
   "execution_count": null,
   "id": "ac85b18a",
   "metadata": {},
   "outputs": [],
   "source": [
    "plt.figure(figsize = (10, 6))\n",
    "sns.boxplot(df.carat);"
   ]
  },
  {
   "cell_type": "code",
   "execution_count": null,
   "id": "c59299c4",
   "metadata": {},
   "outputs": [],
   "source": [
    "# We got the algorithm of all values in the \"carat\" column and examined the distribution of the observations with histogram\n",
    "\n",
    "sns.histplot(np.log(df.carat), bins = 10, kde= False)"
   ]
  },
  {
   "cell_type": "code",
   "execution_count": null,
   "id": "98143a92",
   "metadata": {},
   "outputs": [],
   "source": [
    "sns.histplot(df.carat, bins = 10, kde= False)"
   ]
  },
  {
   "cell_type": "code",
   "execution_count": null,
   "id": "88123f80",
   "metadata": {},
   "outputs": [],
   "source": [
    "# Let's create a new feature named \"carat_log\"\n",
    "\n",
    "df[\"carat_log\"] = np.log(df.carat)\n",
    "df"
   ]
  },
  {
   "cell_type": "code",
   "execution_count": null,
   "id": "f8dccd3c",
   "metadata": {},
   "outputs": [],
   "source": [
    "df"
   ]
  },
  {
   "cell_type": "markdown",
   "id": "3bdddd44",
   "metadata": {},
   "source": [
    "### Removing outliers after log() transformation\n",
    "#### The first method to remove outliers"
   ]
  },
  {
   "cell_type": "code",
   "execution_count": null,
   "id": "df569925",
   "metadata": {},
   "outputs": [],
   "source": [
    "df.carat_log.sort_values().tail()"
   ]
  },
  {
   "cell_type": "code",
   "execution_count": null,
   "id": "288f9884",
   "metadata": {},
   "outputs": [],
   "source": [
    "df.carat.sort_values().tail()"
   ]
  },
  {
   "cell_type": "code",
   "execution_count": null,
   "id": "dbf69536",
   "metadata": {},
   "outputs": [],
   "source": [
    "# If we hypothetically defined the biggest two observation as outliers, we can pick \n",
    "# up their index numbers to remove from our DataFrame \n",
    "# En büyük iki gözlemi varsayımsal olarak aykırı değer olarak tanımlarsak, DataFrame'imizden kaldırmak\n",
    "# için indeks numaralarını alabiliriz\n",
    "\n",
    "drop_index = df.carat_log.sort_values().tail(2).index\n",
    "drop_index"
   ]
  },
  {
   "cell_type": "code",
   "execution_count": null,
   "id": "56d9740c",
   "metadata": {},
   "outputs": [],
   "source": [
    "\n",
    "# Let's remove these two observations at the index number 27630 and 27415 from our DataFrame\n",
    "\n",
    "df.drop(drop_index)"
   ]
  },
  {
   "cell_type": "markdown",
   "id": "5f1f1560",
   "metadata": {},
   "source": [
    "### The second method to remove outliers"
   ]
  },
  {
   "cell_type": "code",
   "execution_count": null,
   "id": "23ab1029",
   "metadata": {},
   "outputs": [],
   "source": [
    "# Again we can apply Tukey's Rule for defining and removing outliers from our DataFrame\n",
    "\n",
    "\n",
    "Q1 = df.carat_log.quantile(0.25)\n",
    "Q3 = df.carat_log.quantile(0.75)\n",
    "\n",
    "IQR = Q3 - Q1\n",
    "IQR"
   ]
  },
  {
   "cell_type": "code",
   "execution_count": null,
   "id": "51b5963a",
   "metadata": {},
   "outputs": [],
   "source": [
    "lower_lim = Q1 - 1.5 * IQR\n",
    "upper_lim = Q3 + 1.5 * IQR\n",
    "\n",
    "lower_lim, upper_lim"
   ]
  },
  {
   "cell_type": "code",
   "execution_count": null,
   "id": "b00c13ee",
   "metadata": {},
   "outputs": [],
   "source": [
    "(df.carat_log > upper_lim).sum()"
   ]
  },
  {
   "cell_type": "code",
   "execution_count": null,
   "id": "be64adac",
   "metadata": {},
   "outputs": [],
   "source": [
    "(df.carat_log <= lower_lim).sum()"
   ]
  },
  {
   "cell_type": "code",
   "execution_count": null,
   "id": "444219d9",
   "metadata": {},
   "outputs": [],
   "source": [
    "# Let's see which observations are defined as outliers according to Tukey's Rule\n",
    "\n",
    "df.loc[(df.carat_log > upper_lim)]"
   ]
  },
  {
   "cell_type": "code",
   "execution_count": null,
   "id": "7fc81184",
   "metadata": {},
   "outputs": [],
   "source": [
    "# After defining the index numbers of these observation, we can remove them from our DataFrame\n",
    "\n",
    "drop_index = df.loc[(df.carat_log > upper_lim)].index\n",
    "drop_index"
   ]
  },
  {
   "cell_type": "code",
   "execution_count": null,
   "id": "5cab9938",
   "metadata": {},
   "outputs": [],
   "source": [
    "df.drop(drop_index)"
   ]
  },
  {
   "cell_type": "code",
   "execution_count": null,
   "id": "9a6cb373",
   "metadata": {},
   "outputs": [],
   "source": [
    "df"
   ]
  },
  {
   "cell_type": "markdown",
   "id": "fb3c9e81",
   "metadata": {},
   "source": [
    "### The third method to remove outliers"
   ]
  },
  {
   "cell_type": "code",
   "execution_count": null,
   "id": "fe3d2d40",
   "metadata": {},
   "outputs": [],
   "source": [
    "# Here we can define the observations not defined as outliers and assign them to an object\n",
    "\n",
    "not_outliers = (df.carat_log <= upper_lim)"
   ]
  },
  {
   "cell_type": "code",
   "execution_count": null,
   "id": "6d7b24e7",
   "metadata": {},
   "outputs": [],
   "source": [
    "# let's examine how many observations are not defined as outliers\n",
    "\n",
    "len(df[not_outliers])"
   ]
  },
  {
   "cell_type": "code",
   "execution_count": null,
   "id": "36c25a78",
   "metadata": {},
   "outputs": [],
   "source": [
    "# We can create a new DatFrame containing only observations not defined as outliers\n",
    "\n",
    "cleaned_df = df[not_outliers]\n",
    "cleaned_df"
   ]
  },
  {
   "cell_type": "code",
   "execution_count": null,
   "id": "f214ee97",
   "metadata": {},
   "outputs": [],
   "source": []
  },
  {
   "cell_type": "code",
   "execution_count": null,
   "id": "f7616a35",
   "metadata": {},
   "outputs": [],
   "source": []
  }
 ],
 "metadata": {
  "kernelspec": {
   "display_name": "Python 3 (ipykernel)",
   "language": "python",
   "name": "python3"
  },
  "language_info": {
   "codemirror_mode": {
    "name": "ipython",
    "version": 3
   },
   "file_extension": ".py",
   "mimetype": "text/x-python",
   "name": "python",
   "nbconvert_exporter": "python",
   "pygments_lexer": "ipython3",
   "version": "3.9.13"
  }
 },
 "nbformat": 4,
 "nbformat_minor": 5
}
